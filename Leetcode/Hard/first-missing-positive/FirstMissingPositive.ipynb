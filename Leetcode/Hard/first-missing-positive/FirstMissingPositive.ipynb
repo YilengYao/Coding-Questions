{
 "cells": [
  {
   "cell_type": "markdown",
   "metadata": {},
   "source": [
    "https://leetcode.com/problems/first-missing-positive/\n",
    "\n",
    "41. First Missing Positive\n",
    "Hard\n",
    "\n",
    "Given an unsorted integer array nums, return the smallest missing positive integer.\n",
    "\n",
    "You must implement an algorithm that runs in O(n) time and uses constant extra space.\n",
    "\n",
    " \n",
    "\n",
    "Example 1:\n",
    "\n",
    "Input: nums = [1,2,0]\n",
    "\n",
    "Output: 3\n",
    "\n",
    "Example 2:\n",
    "\n",
    "Input: nums = [3,4,-1,1]\n",
    "\n",
    "Output: 2\n",
    "\n",
    "Example 3:\n",
    "\n",
    "Input: nums = [7,8,9,11,12]\n",
    "\n",
    "Output: 1\n",
    " \n",
    "\n",
    "Constraints:\n",
    "\n",
    "1 <= nums.length <= 5 * 105\n",
    "\n",
    "-231 <= nums[i] <= 231 - 1"
   ]
  },
  {
   "cell_type": "code",
   "execution_count": 1,
   "metadata": {},
   "outputs": [],
   "source": [
    "from typing import List\n",
    "\n",
    "class Solution:\n",
    "    def firstMissingPositive(self, nums: List[int]) -> int:\n",
    "        s= set(nums)\n",
    "        m = max(nums)\n",
    "        for i in range(1, m):\n",
    "            if i not in s:\n",
    "                return i\n",
    "        return max(m+1, 1)"
   ]
  }
 ],
 "metadata": {
  "kernelspec": {
   "display_name": "Python 3",
   "language": "python",
   "name": "python3"
  },
  "language_info": {
   "codemirror_mode": {
    "name": "ipython",
    "version": 3
   },
   "file_extension": ".py",
   "mimetype": "text/x-python",
   "name": "python",
   "nbconvert_exporter": "python",
   "pygments_lexer": "ipython3",
   "version": "3.8.3"
  }
 },
 "nbformat": 4,
 "nbformat_minor": 4
}
