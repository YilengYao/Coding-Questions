{
 "cells": [
  {
   "cell_type": "markdown",
   "metadata": {},
   "source": [
    "https://leetcode.com/problems/longest-valid-parentheses/\n",
    "    \n",
    "32. Longest Valid Parentheses\n",
    "Hard\n",
    "\n",
    "Given a string containing just the characters '(' and ')', find the length of the longest valid (well-formed) parentheses substring.\n",
    "\n",
    " \n",
    "\n",
    "Example 1:\n",
    "\n",
    "Input: s = \"(()\"\n",
    "\n",
    "Output: 2\n",
    "\n",
    "Explanation: The longest valid parentheses substring is \"()\".\n",
    "\n",
    "Example 2:\n",
    "\n",
    "Input: s = \")()())\"\n",
    "\n",
    "Output: 4\n",
    "\n",
    "Explanation: The longest valid parentheses substring is \"()()\".\n",
    "\n",
    "Example 3:\n",
    "\n",
    "Input: s = \"\"\n",
    "\n",
    "Output: 0\n",
    " \n",
    "\n",
    "Constraints:\n",
    "\n",
    "0 <= s.length <= 3 * 104\n",
    "\n",
    "s[i] is '(', or ')'."
   ]
  },
  {
   "cell_type": "code",
   "execution_count": 158,
   "metadata": {},
   "outputs": [],
   "source": [
    "class Solution:\n",
    "    def longestValidParentheses(self, s: str) -> int:\n",
    "        stack = [-1]\n",
    "        max_len = 0\n",
    "        for i in range(len(s)):\n",
    "            if s[i] == \"(\":\n",
    "                stack.append(i)\n",
    "            else:\n",
    "                if stack[-1] >= 0 and s[stack[-1]] == \"(\":\n",
    "                    stack.pop()\n",
    "                    max_len = max(max_len, i - stack[-1])\n",
    "                else:\n",
    "                    stack.append(i)\n",
    "        return max_len"
   ]
  }
 ],
 "metadata": {
  "kernelspec": {
   "display_name": "Python 3",
   "language": "python",
   "name": "python3"
  },
  "language_info": {
   "codemirror_mode": {
    "name": "ipython",
    "version": 3
   },
   "file_extension": ".py",
   "mimetype": "text/x-python",
   "name": "python",
   "nbconvert_exporter": "python",
   "pygments_lexer": "ipython3",
   "version": "3.8.3"
  }
 },
 "nbformat": 4,
 "nbformat_minor": 4
}
