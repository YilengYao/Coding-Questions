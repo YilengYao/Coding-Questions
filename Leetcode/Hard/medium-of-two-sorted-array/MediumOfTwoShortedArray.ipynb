{
 "cells": [
  {
   "cell_type": "markdown",
   "metadata": {},
   "source": [
    "https://leetcode.com/problems/median-of-two-sorted-arrays/submissions/"
   ]
  },
  {
   "cell_type": "markdown",
   "metadata": {},
   "source": [
    "4. Median of Two Sorted Arrays\n",
    "Hard\n",
    "\n",
    "Given two sorted arrays nums1 and nums2 of size m and n respectively, return the median of the two sorted arrays.\n",
    "\n",
    "The overall run time complexity should be O(log (m+n)).\n",
    "\n",
    " \n",
    "\n",
    "Example 1:\n",
    "\n",
    "Input: nums1 = [1,3], nums2 = [2]\n",
    "Output: 2.00000\n",
    "Explanation: merged array = [1,2,3] and median is 2.\n",
    "Example 2:\n",
    "\n",
    "Input: nums1 = [1,2], nums2 = [3,4]\n",
    "Output: 2.50000\n",
    "Explanation: merged array = [1,2,3,4] and median is (2 + 3) / 2 = 2.5.\n",
    "Example 3:\n",
    "\n",
    "Input: nums1 = [0,0], nums2 = [0,0]\n",
    "Output: 0.00000\n",
    "Example 4:\n",
    "\n",
    "Input: nums1 = [], nums2 = [1]\n",
    "Output: 1.00000\n",
    "Example 5:\n",
    "\n",
    "Input: nums1 = [2], nums2 = []\n",
    "Output: 2.00000\n",
    " \n",
    "\n",
    "Constraints:\n",
    "\n",
    "nums1.length == m\n",
    "nums2.length == n\n",
    "0 <= m <= 1000\n",
    "0 <= n <= 1000\n",
    "1 <= m + n <= 2000\n",
    "-106 <= nums1[i], nums2[i] <= 106"
   ]
  },
  {
   "cell_type": "code",
   "execution_count": 26,
   "metadata": {},
   "outputs": [],
   "source": [
    "from typing import List\n",
    "\n",
    "class Solution:\n",
    "    def findMedianSortedArrays(self, nums1: List[int], nums2: List[int]) -> float:\n",
    "        n = len(nums1) + len(nums2)\n",
    "        if n % 2 == 1:\n",
    "            return self.ordinal(nums1, nums2, n//2)\n",
    "        else:\n",
    "            return (self.ordinal(nums1, nums2, n//2 -1) + self.ordinal(nums1, nums2, n//2))/2\n",
    "        \n",
    "        \n",
    "    def ordinal(self, a, b, k):\n",
    "        if not a:\n",
    "            return b[k]\n",
    "        if not b:\n",
    "            return a[k]\n",
    "        if k == 0:\n",
    "            return min(a[0], b[0])\n",
    "    \n",
    "        med_a, med_b = len(a) // 2, len(b) // 2\n",
    "    \n",
    "        if med_a + med_b < k:\n",
    "            if a[med_a] < b[med_b]:\n",
    "                return self.ordinal(a[med_a + 1:], b, k - med_a - 1)\n",
    "            else:\n",
    "                return self.ordinal(a, b[med_b + 1:], k - med_b - 1)\n",
    "        else:\n",
    "            if a[med_a] < b[med_b]:\n",
    "                return self.ordinal(a, b[:med_b], k)\n",
    "            else:\n",
    "                return self.ordinal(a[:med_a], b, k)"
   ]
  }
 ],
 "metadata": {
  "kernelspec": {
   "display_name": "Python 3",
   "language": "python",
   "name": "python3"
  },
  "language_info": {
   "codemirror_mode": {
    "name": "ipython",
    "version": 3
   },
   "file_extension": ".py",
   "mimetype": "text/x-python",
   "name": "python",
   "nbconvert_exporter": "python",
   "pygments_lexer": "ipython3",
   "version": "3.8.3"
  }
 },
 "nbformat": 4,
 "nbformat_minor": 4
}
