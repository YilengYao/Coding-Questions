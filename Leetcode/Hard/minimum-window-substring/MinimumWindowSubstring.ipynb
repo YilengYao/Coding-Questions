{
 "cells": [
  {
   "cell_type": "markdown",
   "metadata": {},
   "source": [
    "https://leetcode.com/problems/minimum-window-substring/submissions/"
   ]
  },
  {
   "cell_type": "markdown",
   "metadata": {},
   "source": [
    "76. Minimum Window Substring\n",
    "Hard\n",
    "\n",
    "Given two strings s and t of lengths m and n respectively, return the minimum window substring of s such that every character in t (including duplicates) is included in the window. If there is no such substring, return the empty string \"\".\n",
    "\n",
    "The testcases will be generated such that the answer is unique.\n",
    "\n",
    "A substring is a contiguous sequence of characters within the string.\n",
    "\n",
    " \n",
    "\n",
    "Example 1:\n",
    "\n",
    "Input: s = \"ADOBECODEBANC\", t = \"ABC\"\n",
    "\n",
    "Output: \"BANC\"\n",
    "\n",
    "Explanation: The minimum window substring \"BANC\" includes 'A', 'B', and 'C' from string t.\n",
    "\n",
    "Example 2:\n",
    "\n",
    "Input: s = \"a\", t = \"a\"\n",
    "\n",
    "Output: \"a\"\n",
    "\n",
    "Explanation: The entire string s is the minimum window.\n",
    "\n",
    "Example 3:\n",
    "\n",
    "Input: s = \"a\", t = \"aa\"\n",
    "\n",
    "Output: \"\"\n",
    "\n",
    "Explanation: Both 'a's from t must be included in the window.\n",
    "\n",
    "Since the largest window of s only has one 'a', return empty string.\n",
    " \n",
    "\n",
    "Constraints:\n",
    "\n",
    "m == s.length\n",
    "\n",
    "n == t.length\n",
    "\n",
    "1 <= m, n <= 105\n",
    "\n",
    "s and t consist of uppercase and lowercase English letters."
   ]
  },
  {
   "cell_type": "code",
   "execution_count": 309,
   "metadata": {},
   "outputs": [],
   "source": [
    "class Solution:\n",
    "    def minWindow(self, s: str, t: str) -> str:\n",
    "        min_substring = [100001, \"\"]\n",
    "        s_freq = {key: 0 for key in s}\n",
    "        t_freq = collections.Counter(t)\n",
    "        missing = set(t_freq.keys())\n",
    "        l = 0\n",
    "        isComposite = False\n",
    "        for r in range(len(s)):\n",
    "            right_element = s[r]\n",
    "            s_freq[right_element] += 1\n",
    "            if isComposite or self.composite(s_freq, t_freq, missing, right_element):\n",
    "                isComposite = True\n",
    "                left_element = s[l]\n",
    "                while l < r and s_freq[left_element] > t_freq[left_element]:\n",
    "                    s_freq[left_element] -= 1\n",
    "                    l += 1\n",
    "                    left_element = s[l]\n",
    "                if r - l + 1 < min_substring[0]:\n",
    "                    min_substring[0], min_substring[1] = r - l + 1, s[l : r + 1]\n",
    "        return(min_substring[1])  \n",
    "        \n",
    "\n",
    "    def composite(self, s_freq: dict, t_freq: collections.Counter,  missing: set, element: str) -> bool:\n",
    "        if s_freq[element] >= t_freq[element] and element in missing:\n",
    "            missing.remove(element)\n",
    "        return not missing"
   ]
  }
 ],
 "metadata": {
  "kernelspec": {
   "display_name": "Python 3",
   "language": "python",
   "name": "python3"
  },
  "language_info": {
   "codemirror_mode": {
    "name": "ipython",
    "version": 3
   },
   "file_extension": ".py",
   "mimetype": "text/x-python",
   "name": "python",
   "nbconvert_exporter": "python",
   "pygments_lexer": "ipython3",
   "version": "3.8.3"
  }
 },
 "nbformat": 4,
 "nbformat_minor": 4
}
