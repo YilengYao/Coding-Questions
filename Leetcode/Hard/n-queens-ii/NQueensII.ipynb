{
 "cells": [
  {
   "cell_type": "markdown",
   "metadata": {},
   "source": [
    "https://leetcode.com/problems/n-queens-ii/submissions/\n",
    "    \n",
    "52. N-Queens II\n",
    "Hard\n",
    "\n",
    "The n-queens puzzle is the problem of placing n queens on an n x n chessboard such that no two queens attack each other.\n",
    "\n",
    "Given an integer n, return the number of distinct solutions to the n-queens puzzle.\n",
    "\n",
    " \n",
    "\n",
    "Example 1:\n",
    "\n",
    "\n",
    "Input: n = 4\n",
    "\n",
    "Output: 2\n",
    "\n",
    "Explanation: There are two distinct solutions to the 4-queens puzzle as shown.\n",
    "\n",
    "Example 2:\n",
    "\n",
    "Input: n = 1\n",
    "\n",
    "Output: 1\n",
    " \n",
    "\n",
    "Constraints:\n",
    "\n",
    "1 <= n <= 9"
   ]
  },
  {
   "cell_type": "code",
   "execution_count": 1,
   "metadata": {},
   "outputs": [],
   "source": [
    "from typing import List\n",
    "\n",
    "class Solution:\n",
    "    def totalNQueens(self, n: int) -> int:\n",
    "        columns = set([i for i in range(n)])\n",
    "        rows = set([i for i in range(n)])\n",
    "        diagonal1 = set([i for i in range(-n+1,n)])\n",
    "        diagonal2 = set([i for i in range(2*(n-1) + 1)])\n",
    "        elements = []\n",
    "        for i in range(n):\n",
    "            for j in range(n):\n",
    "                elements.append((i,j))\n",
    "        results = set()\n",
    "        self.recSolv(n, elements, [], rows, columns, diagonal1, diagonal2, results)\n",
    "        \n",
    "        return len(results)    \n",
    "        \n",
    "    def recSolv(self, queens, elements, candidate, rows, columns, diagonal1, diagonal2, results):\n",
    "        if len(candidate) >= queens:\n",
    "            results.add(tuple(candidate))\n",
    "            return\n",
    "        if not elements:\n",
    "            return\n",
    "        for i in range(len(elements)):\n",
    "            element = elements[i]\n",
    "            if element[0] in rows and element[1] in columns and (element[1] - element[0]) in diagonal1 and (element[0] + element[1]) in diagonal2:\n",
    "                rows.remove(element[0])\n",
    "                columns.remove(element[1])\n",
    "                diagonal1.remove(element[1] - element[0])\n",
    "                diagonal2.remove(element[0] + element[1])\n",
    "                candidate.append(element)\n",
    "                self.recSolv(queens, elements[i+1:], candidate, rows, columns, diagonal1, diagonal2, results)\n",
    "                rows.add(element[0])\n",
    "                columns.add(element[1])\n",
    "                diagonal1.add(element[1] - element[0])\n",
    "                diagonal2.add(element[0] + element[1])\n",
    "                candidate.remove(element)\n",
    "        return"
   ]
  }
 ],
 "metadata": {
  "kernelspec": {
   "display_name": "Python 3",
   "language": "python",
   "name": "python3"
  },
  "language_info": {
   "codemirror_mode": {
    "name": "ipython",
    "version": 3
   },
   "file_extension": ".py",
   "mimetype": "text/x-python",
   "name": "python",
   "nbconvert_exporter": "python",
   "pygments_lexer": "ipython3",
   "version": "3.8.3"
  }
 },
 "nbformat": 4,
 "nbformat_minor": 4
}
