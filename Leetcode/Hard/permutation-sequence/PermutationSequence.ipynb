{
 "cells": [
  {
   "cell_type": "markdown",
   "metadata": {},
   "source": [
    "https://leetcode.com/problems/permutation-sequence/\n",
    "\n",
    "60. Permutation Sequence\n",
    "Hard\n",
    "\n",
    "The set [1, 2, 3, ..., n] contains a total of n! unique permutations.\n",
    "\n",
    "By listing and labeling all of the permutations in order, we get the following sequence for n = 3:\n",
    "\n",
    "\"123\"\n",
    "\n",
    "\"132\"\n",
    "\n",
    "\"213\"\n",
    "\n",
    "\"231\"\n",
    "\n",
    "\"312\"\n",
    "\n",
    "\"321\"\n",
    "\n",
    "Given n and k, return the kth permutation sequence.\n",
    "\n",
    " \n",
    "\n",
    "Example 1:\n",
    "\n",
    "Input: n = 3, k = 3\n",
    "\n",
    "Output: \"213\"\n",
    "\n",
    "Example 2:\n",
    "\n",
    "Input: n = 4, k = 9\n",
    "\n",
    "Output: \"2314\"\n",
    "\n",
    "Example 3:\n",
    "\n",
    "Input: n = 3, k = 1\n",
    "\n",
    "Output: \"123\"\n",
    " \n",
    "\n",
    "Constraints:\n",
    "\n",
    "1 <= n <= 9\n",
    "\n",
    "1 <= k <= n!"
   ]
  },
  {
   "cell_type": "code",
   "execution_count": 1,
   "metadata": {},
   "outputs": [],
   "source": [
    "class Solution:\n",
    "    def getPermutation(self, n: int, k: int) -> str:\n",
    "        candidate = [str(i) for i in range(1, n + 1)]\n",
    "        factorial = math.factorial(n - 1)\n",
    "        print(factorial)\n",
    "        result = \"\"\n",
    "        for i in range(1, n )[::-1]:\n",
    "            print((k-1)//factorial)\n",
    "            # print(k)\n",
    "            result += candidate.pop((k-1)//factorial)\n",
    "            k = k % factorial\n",
    "            factorial = factorial // i\n",
    "        result += candidate[0]\n",
    "        return result"
   ]
  }
 ],
 "metadata": {
  "kernelspec": {
   "display_name": "Python 3",
   "language": "python",
   "name": "python3"
  },
  "language_info": {
   "codemirror_mode": {
    "name": "ipython",
    "version": 3
   },
   "file_extension": ".py",
   "mimetype": "text/x-python",
   "name": "python",
   "nbconvert_exporter": "python",
   "pygments_lexer": "ipython3",
   "version": "3.8.3"
  }
 },
 "nbformat": 4,
 "nbformat_minor": 4
}
