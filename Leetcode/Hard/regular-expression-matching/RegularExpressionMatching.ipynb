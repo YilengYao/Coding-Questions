{
 "cells": [
  {
   "cell_type": "markdown",
   "metadata": {},
   "source": [
    "https://leetcode.com/problems/regular-expression-matching/"
   ]
  },
  {
   "cell_type": "markdown",
   "metadata": {},
   "source": [
    "10. Regular Expression Matching\n",
    "Hard\n",
    "\n",
    "Given an input string s and a pattern p, implement regular expression matching with support for '.' and '*' where:\n",
    "\n",
    "'.' Matches any single character.​​​​\n",
    "'*' Matches zero or more of the preceding element.\n",
    "The matching should cover the entire input string (not partial).\n",
    "\n",
    " \n",
    "\n",
    "Example 1:\n",
    "\n",
    "Input: s = \"aa\", p = \"a\"\n",
    "Output: false\n",
    "Explanation: \"a\" does not match the entire string \"aa\".\n",
    "Example 2:\n",
    "\n",
    "Input: s = \"aa\", p = \"a*\"\n",
    "Output: true\n",
    "Explanation: '*' means zero or more of the preceding element, 'a'. Therefore, by repeating 'a' once, it becomes \"aa\".\n",
    "Example 3:\n",
    "\n",
    "Input: s = \"ab\", p = \".*\"\n",
    "Output: true\n",
    "Explanation: \".*\" means \"zero or more (*) of any character (.)\".\n",
    " \n",
    "\n",
    "Constraints:\n",
    "\n",
    "1 <= s.length <= 20\n",
    "1 <= p.length <= 30\n",
    "s contains only lowercase English letters.\n",
    "p contains only lowercase English letters, '.', and '*'.\n",
    "It is guaranteed for each appearance of the character '*', there will be a previous valid character to match."
   ]
  },
  {
   "cell_type": "code",
   "execution_count": 1,
   "metadata": {},
   "outputs": [],
   "source": [
    "class Solution:\n",
    "    def isMatch(self, s: str, p: str) -> bool:\n",
    "        if not s and not p:\n",
    "            return True\n",
    "        if not p:\n",
    "            return False\n",
    "        \n",
    "        match = s and (s[0] == p[0] or p[0] == \".\")\n",
    "        \n",
    "        if len(p) > 1 and p[1] == \"*\":\n",
    "            return self.isMatch(s, p[2:]) or (match and self.isMatch(s[1:], p))\n",
    "        else:\n",
    "            return match and self.isMatch(s[1:], p[1:])"
   ]
  },
  {
   "cell_type": "markdown",
   "metadata": {},
   "source": [
    "Solution using cache"
   ]
  },
  {
   "cell_type": "code",
   "execution_count": 6,
   "metadata": {},
   "outputs": [],
   "source": [
    "class Solution:\n",
    "    cache = {}\n",
    "    def isMatch(self, s: str, p: str) -> bool:\n",
    "        if not s and not p:\n",
    "            return True\n",
    "        if not p:\n",
    "            return False\n",
    "        \n",
    "        if (s, p) in self.cache:\n",
    "            return self.cache[(s, p)]\n",
    "        match = s and (s[0] == p[0] or p[0] == \".\")\n",
    "        \n",
    "        if len(p) > 1 and p[1] == \"*\":\n",
    "            self.cache[(s, p)] = self.isMatch(s, p[2:]) or (match and self.isMatch(s[1:], p))\n",
    "            return self.cache[(s, p)]\n",
    "        else:\n",
    "            self.cache[(s, p)] = match and self.isMatch(s[1:], p[1:])\n",
    "            return self.cache[(s, p)]"
   ]
  }
 ],
 "metadata": {
  "kernelspec": {
   "display_name": "Python 3",
   "language": "python",
   "name": "python3"
  },
  "language_info": {
   "codemirror_mode": {
    "name": "ipython",
    "version": 3
   },
   "file_extension": ".py",
   "mimetype": "text/x-python",
   "name": "python",
   "nbconvert_exporter": "python",
   "pygments_lexer": "ipython3",
   "version": "3.8.3"
  }
 },
 "nbformat": 4,
 "nbformat_minor": 4
}
