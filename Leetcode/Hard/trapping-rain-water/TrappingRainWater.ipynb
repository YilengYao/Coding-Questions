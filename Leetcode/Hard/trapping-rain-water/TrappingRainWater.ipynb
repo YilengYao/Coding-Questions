{
 "cells": [
  {
   "cell_type": "markdown",
   "metadata": {},
   "source": [
    "https://leetcode.com/problems/trapping-rain-water/solution/\n",
    "\n",
    "42. Trapping Rain Water\n",
    "Hard\n",
    "\n",
    "Given n non-negative integers representing an elevation map where the width of each bar is 1, compute how much water it can trap after raining.\n",
    "\n",
    " \n",
    "\n",
    "Example 1:\n",
    "\n",
    "\n",
    "Input: height = [0,1,0,2,1,0,1,3,2,1,2,1]\n",
    "\n",
    "Output: 6\n",
    "\n",
    "Explanation: The above elevation map (black section) is represented by array [0,1,0,2,1,0,1,3,2,1,2,1]. In this case, 6 units of rain water (blue section) are being trapped.\n",
    "\n",
    "Example 2:\n",
    "\n",
    "Input: height = [4,2,0,3,2,5]\n",
    "\n",
    "Output: 9\n",
    " \n",
    "\n",
    "Constraints:\n",
    "\n",
    "n == height.length\n",
    "\n",
    "1 <= n <= 2 * 104\n",
    "\n",
    "0 <= height[i] <= 105"
   ]
  },
  {
   "cell_type": "code",
   "execution_count": 7,
   "metadata": {},
   "outputs": [],
   "source": [
    "from typing import List\n",
    "\n",
    "class Solution:\n",
    "    def trap(self, height: List[int]) -> int:\n",
    "        filled = [0]*len(height)\n",
    "        m = (0, 0)\n",
    "        \n",
    "        for i in range(len(height)):\n",
    "            if height[i] >= m[1]:\n",
    "                for j in range(m[0], i):\n",
    "                    filled[j] = m[1]\n",
    "                filled[i] = height[i]\n",
    "                m = (i, height[i])\n",
    "        m = (0, 0)\n",
    "        for i in range(len(height))[::-1]:\n",
    "            if height[i] >= m[1]:\n",
    "\n",
    "                for j in range(i, m[0])[::-1]:\n",
    "                    filled[j] = m[1]\n",
    "                filled[i] = height[i]\n",
    "                m = (i, height[i])        \n",
    "        \n",
    "        return sum(filled)-sum(height)\n",
    "        "
   ]
  }
 ],
 "metadata": {
  "kernelspec": {
   "display_name": "Python 3",
   "language": "python",
   "name": "python3"
  },
  "language_info": {
   "codemirror_mode": {
    "name": "ipython",
    "version": 3
   },
   "file_extension": ".py",
   "mimetype": "text/x-python",
   "name": "python",
   "nbconvert_exporter": "python",
   "pygments_lexer": "ipython3",
   "version": "3.8.3"
  }
 },
 "nbformat": 4,
 "nbformat_minor": 4
}
