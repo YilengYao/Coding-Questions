{
 "cells": [
  {
   "cell_type": "markdown",
   "metadata": {},
   "source": [
    "https://leetcode.com/problems/3sum/submissions/\n",
    "\n",
    "15. 3Sum\n",
    "Medium\n",
    "\n",
    "Given an integer array nums, return all the triplets [nums[i], nums[j], nums[k]] such that i != j, i != k, and j != k, and nums[i] + nums[j] + nums[k] == 0.\n",
    "\n",
    "Notice that the solution set must not contain duplicate triplets.\n",
    "\n",
    " \n",
    "\n",
    "Example 1:\n",
    "\n",
    "Input: nums = [-1,0,1,2,-1,-4]\n",
    "\n",
    "Output: [[-1,-1,2],[-1,0,1]]\n",
    "\n",
    "Example 2:\n",
    "\n",
    "Input: nums = []\n",
    "\n",
    "Output: []\n",
    "\n",
    "Example 3:\n",
    "\n",
    "Input: nums = [0]\n",
    "\n",
    "Output: []\n",
    " \n",
    "\n",
    "Constraints:\n",
    "\n",
    "0 <= nums.length <= 3000\n",
    "\n",
    "-105 <= nums[i] <= 105"
   ]
  },
  {
   "cell_type": "code",
   "execution_count": 34,
   "metadata": {},
   "outputs": [],
   "source": [
    "from typing import List\n",
    "\n",
    "class Solution:\n",
    "    def threeSum(self, nums: List[int]) -> List[List[int]]:\n",
    "        result = []\n",
    "        nums = sorted(nums)\n",
    "        n = len(nums)\n",
    "        for i in range(n - 2):\n",
    "            if i == 0 or nums[i-1] != nums[i]:\n",
    "                self.twoSums(nums, i + 1, nums[i], n, result)\n",
    "        return result\n",
    "        \n",
    "        \n",
    "    def twoSums(self, nums, j , target, n, result):\n",
    "        complement = set()\n",
    "        while j < n:\n",
    "            if nums[j] in complement:\n",
    "                result.append([target, - target - nums[j] , nums[j]])\n",
    "                while j + 1 < n and nums[j] == nums[j + 1]:\n",
    "                    j += 1\n",
    "            complement.add(- target - nums[j])\n",
    "            j += 1\n"
   ]
  }
 ],
 "metadata": {
  "kernelspec": {
   "display_name": "Python 3",
   "language": "python",
   "name": "python3"
  },
  "language_info": {
   "codemirror_mode": {
    "name": "ipython",
    "version": 3
   },
   "file_extension": ".py",
   "mimetype": "text/x-python",
   "name": "python",
   "nbconvert_exporter": "python",
   "pygments_lexer": "ipython3",
   "version": "3.8.3"
  }
 },
 "nbformat": 4,
 "nbformat_minor": 4
}
