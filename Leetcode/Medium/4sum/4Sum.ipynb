{
 "cells": [
  {
   "cell_type": "markdown",
   "metadata": {},
   "source": [
    "https://leetcode.com/problems/4sum/\n",
    "\n",
    "18. 4Sum\n",
    "Medium\n",
    "\n",
    "Given an array nums of n integers, return an array of all the unique quadruplets [nums[a], nums[b], nums[c], nums[d]] such that:\n",
    "\n",
    "0 <= a, b, c, d < n\n",
    "\n",
    "a, b, c, and d are distinct.\n",
    "\n",
    "nums[a] + nums[b] + nums[c] + nums[d] == target\n",
    "\n",
    "You may return the answer in any order.\n",
    "\n",
    " \n",
    "\n",
    "Example 1:\n",
    "\n",
    "Input: nums = [1,0,-1,0,-2,2], target = 0\n",
    "\n",
    "Output: [[-2,-1,1,2],[-2,0,0,2],[-1,0,0,1]]\n",
    "\n",
    "Example 2:\n",
    "\n",
    "Input: nums = [2,2,2,2,2], target = 8\n",
    "\n",
    "Output: [[2,2,2,2]]\n",
    " \n",
    "\n",
    "Constraints:\n",
    "\n",
    "1 <= nums.length <= 200\n",
    "\n",
    "-109 <= nums[i] <= 109\n",
    "\n",
    "-109 <= target <= 109"
   ]
  },
  {
   "cell_type": "code",
   "execution_count": 1,
   "metadata": {},
   "outputs": [],
   "source": [
    "from typing import List\n",
    "class Solution:\n",
    "    def fourSum(self, nums: List[int], target: int) -> List[List[int]]:\n",
    "        result = set()\n",
    "        n = len(nums)\n",
    "        nums.sort()\n",
    "        for i in range(n - 3):\n",
    "            if target < nums[i]*4 or target > nums[-1]*4:  # take advantages of sorted list\n",
    "                break\n",
    "            self.threeSum(nums, i + 1, nums[i], n, result, target)\n",
    "        return result\n",
    "                \n",
    "    def threeSum(self, nums: List[int],k, first, n, result, target):\n",
    "        for i in range(k, n - 2):\n",
    "            self.twoSums(nums, i + 1, first, nums[i], n, result, target)\n",
    "        \n",
    "        \n",
    "    def twoSums(self, nums, j , first, second, n, result, target):\n",
    "        complement = set()\n",
    "        while j < n:\n",
    "            if nums[j] in complement:\n",
    "                result.add((first, second, target - first - second - nums[j] , nums[j]))\n",
    "            complement.add(target - first - second - nums[j])\n",
    "            j += 1"
   ]
  }
 ],
 "metadata": {
  "kernelspec": {
   "display_name": "Python 3",
   "language": "python",
   "name": "python3"
  },
  "language_info": {
   "codemirror_mode": {
    "name": "ipython",
    "version": 3
   },
   "file_extension": ".py",
   "mimetype": "text/x-python",
   "name": "python",
   "nbconvert_exporter": "python",
   "pygments_lexer": "ipython3",
   "version": "3.8.3"
  }
 },
 "nbformat": 4,
 "nbformat_minor": 4
}
