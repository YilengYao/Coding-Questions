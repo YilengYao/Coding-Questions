{
 "cells": [
  {
   "cell_type": "markdown",
   "metadata": {},
   "source": [
    "https://leetcode.com/problems/coin-change/"
   ]
  },
  {
   "cell_type": "markdown",
   "metadata": {},
   "source": [
    "322. Coin Change\n",
    "Medium\n",
    "\n",
    "You are given an integer array coins representing coins of different denominations and an integer amount representing a total amount of money.\n",
    "\n",
    "Return the fewest number of coins that you need to make up that amount. If that amount of money cannot be made up by any combination of the coins, return -1.\n",
    "\n",
    "You may assume that you have an infinite number of each kind of coin.\n",
    "\n",
    " \n",
    "\n",
    "Example 1:\n",
    "\n",
    "Input: coins = [1,2,5], amount = 11\n",
    "Output: 3\n",
    "Explanation: 11 = 5 + 5 + 1\n",
    "Example 2:\n",
    "\n",
    "Input: coins = [2], amount = 3\n",
    "Output: -1\n",
    "Example 3:\n",
    "\n",
    "Input: coins = [1], amount = 0\n",
    "Output: 0\n",
    " \n",
    "\n",
    "Constraints:\n",
    "\n",
    "1 <= coins.length <= 12\n",
    "1 <= coins[i] <= 231 - 1\n",
    "0 <= amount <= 104"
   ]
  },
  {
   "cell_type": "markdown",
   "metadata": {},
   "source": [
    "Recursive solution"
   ]
  },
  {
   "cell_type": "code",
   "execution_count": 4,
   "metadata": {},
   "outputs": [],
   "source": [
    "from typing import List\n",
    "\n",
    "class Solution:\n",
    "    cache = {}\n",
    "    def coinChange(self, coins: List[int], amount: int) -> int:\n",
    "        self.cache ={}\n",
    "        result = self.helper(coins, amount)\n",
    "        if result == None:\n",
    "            return -1\n",
    "        else:\n",
    "            return result\n",
    "        \n",
    "    def helper(self, coins, amount):\n",
    "        min_coins = []\n",
    "\n",
    "        if amount in self.cache:\n",
    "            return self.cache[amount]\n",
    "        if amount == 0:\n",
    "            self.cache[0] = 0\n",
    "            return self.cache[0]\n",
    "        \n",
    "        for coin in coins:\n",
    "            if amount - coin >= 0:\n",
    "                prev = self.helper(coins, amount - coin)\n",
    "                if prev != None:\n",
    "                    min_coins.append(prev)\n",
    "        if min_coins:\n",
    "            self.cache[amount] =  min(min_coins) + 1\n",
    "            return self.cache[amount]\n",
    "        else:\n",
    "            self.cache[amount] = None\n",
    "            return self.cache[amount]"
   ]
  },
  {
   "cell_type": "markdown",
   "metadata": {},
   "source": [
    "Memoirization solution"
   ]
  },
  {
   "cell_type": "code",
   "execution_count": 7,
   "metadata": {},
   "outputs": [],
   "source": [
    "class Solution:\n",
    "    def coinChange(self, coins: List[int], amount: int) -> int:\n",
    "        cache = [0]\n",
    "        for i in range(1, amount + 1):\n",
    "            combinations = []\n",
    "            for coin in coins:\n",
    "                if i - coin >= 0 and cache[i - coin] >=0:\n",
    "                    combinations.append(cache[i - coin])\n",
    "            if combinations:\n",
    "                cache.append(min(combinations) + 1)\n",
    "            else:\n",
    "                cache.append(-1)\n",
    "        return cache[-1]"
   ]
  }
 ],
 "metadata": {
  "kernelspec": {
   "display_name": "Python 3",
   "language": "python",
   "name": "python3"
  },
  "language_info": {
   "codemirror_mode": {
    "name": "ipython",
    "version": 3
   },
   "file_extension": ".py",
   "mimetype": "text/x-python",
   "name": "python",
   "nbconvert_exporter": "python",
   "pygments_lexer": "ipython3",
   "version": "3.8.3"
  }
 },
 "nbformat": 4,
 "nbformat_minor": 4
}
