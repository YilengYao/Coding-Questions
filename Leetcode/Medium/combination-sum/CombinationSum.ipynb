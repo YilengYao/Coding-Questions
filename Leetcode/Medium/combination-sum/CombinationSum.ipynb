{
 "cells": [
  {
   "cell_type": "markdown",
   "metadata": {},
   "source": [
    "https://leetcode.com/problems/combination-sum/\n",
    "\n",
    "39. Combination Sum\n",
    "Medium\n",
    "\n",
    "Given an array of distinct integers candidates and a target integer target, return a list of all unique combinations of candidates where the chosen numbers sum to target. You may return the combinations in any order.\n",
    "\n",
    "The same number may be chosen from candidates an unlimited number of times. Two combinations are unique if the frequency of at least one of the chosen numbers is different.\n",
    "\n",
    "It is guaranteed that the number of unique combinations that sum up to target is less than 150 combinations for the given input.\n",
    "\n",
    " \n",
    "\n",
    "Example 1:\n",
    "\n",
    "Input: candidates = [2,3,6,7], target = 7\n",
    "\n",
    "Output: [[2,2,3],[7]]\n",
    "\n",
    "Explanation:\n",
    "\n",
    "2 and 3 are candidates, and 2 + 2 + 3 = 7. Note that 2 can be used multiple times.\n",
    "\n",
    "7 is a candidate, and 7 = 7.\n",
    "\n",
    "These are the only two combinations.\n",
    "\n",
    "Example 2:\n",
    "\n",
    "Input: candidates = [2,3,5], target = 8\n",
    "\n",
    "Output: [[2,2,2,2],[2,3,3],[3,5]]\n",
    "\n",
    "Example 3:\n",
    "\n",
    "Input: candidates = [2], target = 1\n",
    "\n",
    "Output: []\n",
    " \n",
    "\n",
    "Constraints:\n",
    "\n",
    "1 <= candidates.length <= 30\n",
    "\n",
    "1 <= candidates[i] <= 200\n",
    "\n",
    "All elements of candidates are distinct.\n",
    "\n",
    "1 <= target <= 500"
   ]
  },
  {
   "cell_type": "code",
   "execution_count": 1,
   "metadata": {},
   "outputs": [],
   "source": [
    "from typing import List\n",
    "\n",
    "class Solution:\n",
    "    def combinationSum(self, candidates: List[int], target: int) -> List[List[int]]:\n",
    "        result = set()\n",
    "        self.recursiveCombinationSum(candidates, [], target, result)\n",
    "        return result\n",
    "    \n",
    "    def recursiveCombinationSum(self, candidates, sums, target, result):\n",
    "        if sum(sums) > target:\n",
    "            return False\n",
    "        if sum(sums) == target:\n",
    "            result.add(tuple(sorted(sums.copy())))\n",
    "            return True\n",
    "        \n",
    "        for candidate in candidates:\n",
    "            sums.append(candidate)\n",
    "            self.recursiveCombinationSum(candidates, sums, target, result)\n",
    "            sums.pop()\n",
    "            \n",
    "        return True"
   ]
  }
 ],
 "metadata": {
  "kernelspec": {
   "display_name": "Python 3",
   "language": "python",
   "name": "python3"
  },
  "language_info": {
   "codemirror_mode": {
    "name": "ipython",
    "version": 3
   },
   "file_extension": ".py",
   "mimetype": "text/x-python",
   "name": "python",
   "nbconvert_exporter": "python",
   "pygments_lexer": "ipython3",
   "version": "3.8.3"
  }
 },
 "nbformat": 4,
 "nbformat_minor": 4
}
