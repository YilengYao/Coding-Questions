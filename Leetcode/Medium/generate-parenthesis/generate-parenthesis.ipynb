{
 "cells": [
  {
   "cell_type": "markdown",
   "metadata": {},
   "source": [
    "https://leetcode.com/problems/generate-parentheses/submissions/\n",
    "    \n",
    "22. Generate Parentheses\n",
    "Medium\n",
    "\n",
    "Given n pairs of parentheses, write a function to generate all combinations of well-formed parentheses.\n",
    "\n",
    " \n",
    "\n",
    "Example 1:\n",
    "\n",
    "Input: n = 3\n",
    "\n",
    "Output: [\"((()))\",\"(()())\",\"(())()\",\"()(())\",\"()()()\"]\n",
    "\n",
    "Example 2:\n",
    "\n",
    "Input: n = 1\n",
    "\n",
    "Output: [\"()\"]\n",
    " \n",
    "\n",
    "Constraints:\n",
    "\n",
    "1 <= n <= 8"
   ]
  },
  {
   "cell_type": "code",
   "execution_count": 2,
   "metadata": {},
   "outputs": [],
   "source": [
    "class Solution:\n",
    "    def generateParenthesis(self, n: int) -> List[str]:\n",
    "        left = [\"(\" for i in range(n)]\n",
    "        right = [\")\" for i in range(n)]\n",
    "        result = []\n",
    "        self.backtrackParenthesis(left, right, [], result)        \n",
    "        return result\n",
    "    \n",
    "    def backtrackParenthesis(self, left, right, candidate, result):\n",
    "        if not left and not right:\n",
    "            result.append(\"\".join(candidate))\n",
    "            return \n",
    "        \n",
    "        if left:\n",
    "            new_candidate = candidate.copy()\n",
    "            new_candidate.append(left[0])\n",
    "            self.backtrackParenthesis(left[1:], right, new_candidate, result)\n",
    "            \n",
    "        if len(left) < len(right) and right:\n",
    "            new_candidate = candidate.copy()\n",
    "            new_candidate.append(right[0])\n",
    "            self.backtrackParenthesis(left, right[1:], new_candidate, result)\n",
    "        \n",
    "        return"
   ]
  },
  {
   "cell_type": "code",
   "execution_count": 3,
   "metadata": {},
   "outputs": [],
   "source": [
    "b.append(a.pop())"
   ]
  },
  {
   "cell_type": "code",
   "execution_count": 4,
   "metadata": {},
   "outputs": [
    {
     "data": {
      "text/plain": [
       "[1, 2]"
      ]
     },
     "execution_count": 4,
     "metadata": {},
     "output_type": "execute_result"
    }
   ],
   "source": [
    "a"
   ]
  },
  {
   "cell_type": "code",
   "execution_count": 5,
   "metadata": {},
   "outputs": [
    {
     "data": {
      "text/plain": [
       "[3]"
      ]
     },
     "execution_count": 5,
     "metadata": {},
     "output_type": "execute_result"
    }
   ],
   "source": [
    "b"
   ]
  },
  {
   "cell_type": "code",
   "execution_count": 14,
   "metadata": {},
   "outputs": [],
   "source": [
    "c = []\n",
    "def abc(nums):\n",
    "    print(nums)\n",
    "    if nums:\n",
    "        c.append(nums[0])\n",
    "        abc(nums[1:])\n",
    "    print(nums)"
   ]
  }
 ],
 "metadata": {
  "kernelspec": {
   "display_name": "Python 3",
   "language": "python",
   "name": "python3"
  },
  "language_info": {
   "codemirror_mode": {
    "name": "ipython",
    "version": 3
   },
   "file_extension": ".py",
   "mimetype": "text/x-python",
   "name": "python",
   "nbconvert_exporter": "python",
   "pygments_lexer": "ipython3",
   "version": "3.8.3"
  }
 },
 "nbformat": 4,
 "nbformat_minor": 4
}
