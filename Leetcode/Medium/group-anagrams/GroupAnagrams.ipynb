{
 "cells": [
  {
   "cell_type": "markdown",
   "metadata": {},
   "source": [
    "https://leetcode.com/problems/group-anagrams/\n",
    "\n",
    "49. Group Anagrams\n",
    "Medium\n",
    "\n",
    "Given an array of strings strs, group the anagrams together. You can return the answer in any order.\n",
    "\n",
    "An Anagram is a word or phrase formed by rearranging the letters of a different word or phrase, typically using all the original letters exactly once.\n",
    "\n",
    " \n",
    "\n",
    "Example 1:\n",
    "\n",
    "Input: strs = [\"eat\",\"tea\",\"tan\",\"ate\",\"nat\",\"bat\"]\n",
    "\n",
    "Output: [[\"bat\"],[\"nat\",\"tan\"],[\"ate\",\"eat\",\"tea\"]]\n",
    "\n",
    "Example 2:\n",
    "\n",
    "Input: strs = [\"\"]\n",
    "\n",
    "Output: [[\"\"]]\n",
    "\n",
    "Example 3:\n",
    "\n",
    "Input: strs = [\"a\"]\n",
    "\n",
    "Output: [[\"a\"]]\n",
    " \n",
    "\n",
    "Constraints:\n",
    "\n",
    "1 <= strs.length <= 104\n",
    "\n",
    "0 <= strs[i].length <= 100\n",
    "\n",
    "strs[i] consists of lowercase English letters."
   ]
  },
  {
   "cell_type": "markdown",
   "metadata": {},
   "source": [
    "Using Hashing"
   ]
  },
  {
   "cell_type": "code",
   "execution_count": 50,
   "metadata": {},
   "outputs": [],
   "source": [
    "from typing import List, Dict, Any\n",
    "import hashlib\n",
    "import json\n",
    "from collections import Counter\n",
    "class Solution:\n",
    "    def groupAnagrams(self, strs: List[str]) -> List[List[str]]:\n",
    "        group = {}\n",
    "        for string in strs:\n",
    "            counter_string = self.dict_hash(Counter(string))\n",
    "            if counter_string in group:\n",
    "                group[counter_string].append(string)\n",
    "            else:\n",
    "                group[counter_string] = [string]\n",
    "        return [value for value in group.values()]\n",
    "    \n",
    "    \n",
    "\n",
    "\n",
    "    def dict_hash(self, dictionary: Dict[str, Any]) -> str:\n",
    "        \"\"\"MD5 hash of a dictionary.\"\"\"\n",
    "        dhash = hashlib.md5()\n",
    "        # We need to sort arguments so {'a': 1, 'b': 2} is\n",
    "        # the same as {'b': 2, 'a': 1}\n",
    "        encoded = json.dumps(dictionary, sort_keys=True).encode()\n",
    "        dhash.update(encoded)\n",
    "        return dhash.hexdigest()"
   ]
  },
  {
   "cell_type": "markdown",
   "metadata": {},
   "source": [
    "Using list for alphabet, turn list into tuple"
   ]
  },
  {
   "cell_type": "code",
   "execution_count": 51,
   "metadata": {},
   "outputs": [],
   "source": [
    "from typing import List\n",
    "class Solution:\n",
    "    def groupAnagrams(self, strs: List[str]) -> List[List[str]]:\n",
    "        ans = {}\n",
    "        for s in strs:\n",
    "            count = [0] * 26\n",
    "            for c in s:\n",
    "                count[ord(c) - ord('a')] += 1\n",
    "            if tuple(count) in ans:\n",
    "                ans[tuple(count)].append(s)\n",
    "            else:\n",
    "                ans[tuple(count)] = [s]\n",
    "        return ans.values()"
   ]
  }
 ],
 "metadata": {
  "kernelspec": {
   "display_name": "Python 3",
   "language": "python",
   "name": "python3"
  },
  "language_info": {
   "codemirror_mode": {
    "name": "ipython",
    "version": 3
   },
   "file_extension": ".py",
   "mimetype": "text/x-python",
   "name": "python",
   "nbconvert_exporter": "python",
   "pygments_lexer": "ipython3",
   "version": "3.8.3"
  }
 },
 "nbformat": 4,
 "nbformat_minor": 4
}
