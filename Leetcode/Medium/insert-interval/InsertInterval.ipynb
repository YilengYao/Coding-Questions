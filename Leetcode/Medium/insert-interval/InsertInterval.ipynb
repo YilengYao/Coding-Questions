{
 "cells": [
  {
   "cell_type": "markdown",
   "metadata": {},
   "source": [
    "https://leetcode.com/problems/insert-interval/submissions/\n",
    "\n",
    "57. Insert Interval\n",
    "Medium\n",
    "\n",
    "You are given an array of non-overlapping intervals intervals where intervals[i] = [starti, endi] represent the start and the end of the ith interval and intervals is sorted in ascending order by starti. You are also given an interval newInterval = [start, end] that represents the start and end of another interval.\n",
    "\n",
    "Insert newInterval into intervals such that intervals is still sorted in ascending order by starti and intervals still does not have any overlapping intervals (merge overlapping intervals if necessary).\n",
    "\n",
    "Return intervals after the insertion.\n",
    "\n",
    " \n",
    "\n",
    "Example 1:\n",
    "\n",
    "Input: intervals = [[1,3],[6,9]], newInterval = [2,5]\n",
    "\n",
    "Output: [[1,5],[6,9]]\n",
    "\n",
    "Example 2:\n",
    "\n",
    "Input: intervals = [[1,2],[3,5],[6,7],[8,10],[12,16]], newInterval = [4,8]\n",
    "\n",
    "Output: [[1,2],[3,10],[12,16]]\n",
    "\n",
    "Explanation: Because the new interval [4,8] overlaps with [3,5],[6,7],[8,10].\n",
    " \n",
    "\n",
    "Constraints:\n",
    "\n",
    "0 <= intervals.length <= 104\n",
    "\n",
    "intervals[i].length == 2\n",
    "\n",
    "0 <= starti <= endi <= 105\n",
    "\n",
    "intervals is sorted by starti in ascending order.\n",
    "\n",
    "newInterval.length == 2\n",
    "\n",
    "0 <= start <= end <= 105"
   ]
  },
  {
   "cell_type": "code",
   "execution_count": 7,
   "metadata": {},
   "outputs": [],
   "source": [
    "from typing import List\n",
    "\n",
    "class Solution:\n",
    "    def insert(self, intervals: List[List[int]], newInterval: List[int]) -> List[List[int]]:\n",
    "        if intervals == []:\n",
    "            return [newInterval]\n",
    "        \n",
    "        i = 0\n",
    "        while i < len(intervals):\n",
    "            if ( newInterval[0] <= intervals[i][0] and  intervals[i][0] <= newInterval[1]) or (newInterval[0] <= intervals[i][1] and  intervals[i][1] <= newInterval[1]) or (intervals[i][0] <= newInterval[0] and newInterval[1] <= intervals[i][1]) :\n",
    "                interval = intervals.pop(i)\n",
    "                newInterval[0], newInterval[1] = min(newInterval[0], interval[0]), max(newInterval[1], interval[1])\n",
    "            else:\n",
    "                i += 1\n",
    "                \n",
    "        intervals.append(newInterval)\n",
    "        return sorted(intervals)  \n",
    "        "
   ]
  }
 ],
 "metadata": {
  "kernelspec": {
   "display_name": "Python 3",
   "language": "python",
   "name": "python3"
  },
  "language_info": {
   "codemirror_mode": {
    "name": "ipython",
    "version": 3
   },
   "file_extension": ".py",
   "mimetype": "text/x-python",
   "name": "python",
   "nbconvert_exporter": "python",
   "pygments_lexer": "ipython3",
   "version": "3.8.3"
  }
 },
 "nbformat": 4,
 "nbformat_minor": 4
}
