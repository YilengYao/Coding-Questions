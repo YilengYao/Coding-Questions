{
 "cells": [
  {
   "cell_type": "code",
   "execution_count": 86,
   "metadata": {},
   "outputs": [],
   "source": [
    "class LRUCache:\n",
    "\n",
    "    def __init__(self, capacity: int):\n",
    "        self.__cache = {}\n",
    "        self.__head = None\n",
    "        self.__tail = None\n",
    "        self.__capacity = capacity\n",
    "        self.__size = 0\n",
    "        \n",
    "\n",
    "    def get(self, key: int) -> int:\n",
    "        if not key in self.__cache:\n",
    "            return -1\n",
    "        currNode = self.__removeNode(currNode)\n",
    "        if currNode:\n",
    "            self.__addNode(currNode)\n",
    "        return currNode.getValue()\n",
    "        \n",
    "        \n",
    "\n",
    "    def put(self, key: int, value: int) -> None:\n",
    "        if key in self.__cache:\n",
    "            self.__removeNode(key)\n",
    "            self.__insertPreviousNode(key, Node(value), self.__head)\n",
    "        else:\n",
    "            self.__insertPreviousNode(key, Node(value), self.__head)\n",
    "        if self.__size > self.__capacity:\n",
    "            self.__removeNode(self.__tail.getValue())\n",
    "        \n",
    "    def __removeNode(self, key: int) -> Node:\n",
    "        currNode = self.__cache[key]\n",
    "        if currNode:\n",
    "            if currNode == self.__head:\n",
    "                self.__head == currNode.getNext()\n",
    "            if currNode == self.__tail:\n",
    "                self.__tail == currNode.getPrevious()\n",
    "            currNode.getPrevious().setNext(currNode.getNext())\n",
    "            currNode.getNext().setPrevious(currNode.getPrevious())\n",
    "            currNode.setNext(None)\n",
    "            currNode.setPrevous(None)\n",
    "            self.__cache.pop(key)\n",
    "            self.__size -= 1\n",
    "        return currNode\n",
    "    \n",
    "    def __insertPreviousNode(self, key: int, nodeToInsert: Node, currNode: Node) -> None:\n",
    "        if nodeToInsert:\n",
    "            if currNode:\n",
    "                if currNode.getPrevious():\n",
    "                    currNode.getPrevious().setNext(nodeToInsert)\n",
    "                nodeToInsert.previous(currNode.getPrevious())\n",
    "                nodeToInsert.setNext(currNode)\n",
    "                currNode.setPrevious(nodeToInsert)\n",
    "            if self.__head == currNode:\n",
    "                self.__head = nodeToInsert\n",
    "            elif self.__tail == currNode:\n",
    "                self.__tail = nodeToInsert\n",
    "            self.__cache[key] = nodeToInsert\n",
    "            self.__size += 1\n",
    "            \n",
    "\n",
    "# Your LRUCache object will be instantiated and called as such:\n",
    "# obj = LRUCache(capacity)\n",
    "# param_1 = obj.get(key)\n",
    "# obj.put(key,value)\n"
   ]
  },
  {
   "cell_type": "code",
   "execution_count": 87,
   "metadata": {},
   "outputs": [],
   "source": [
    "class Node:\n",
    "        \n",
    "    def __init__(self, value: int, prev = None, next = None) -> None:\n",
    "        self.__value = value\n",
    "        self.__previous = prev\n",
    "        self.__next = next\n",
    "        \n",
    "    def getPrevious(self) -> Node:\n",
    "        return self.__previous\n",
    "    \n",
    "    def getNext(self) -> Node:\n",
    "        return self.__next\n",
    "    \n",
    "    def getValue(self) -> int:\n",
    "        return self.__value\n",
    "    \n",
    "    def setPrevious(self, prev: Node) -> None:\n",
    "        self.prev = prev\n",
    "        \n",
    "    def setNext(self, next: Node) -> None:\n",
    "        self.next = next\n",
    "        \n",
    "    def setValue(self, value: int) -> None:\n",
    "        self.value = value"
   ]
  },
  {
   "cell_type": "code",
   "execution_count": 85,
   "metadata": {},
   "outputs": [],
   "source": [
    "head = Node(1, Node(2), None)"
   ]
  },
  {
   "cell_type": "code",
   "execution_count": 60,
   "metadata": {},
   "outputs": [],
   "source": [
    "w = head.getPrevious()"
   ]
  },
  {
   "cell_type": "code",
   "execution_count": 61,
   "metadata": {},
   "outputs": [],
   "source": [
    "w = Node(2)"
   ]
  },
  {
   "cell_type": "code",
   "execution_count": 62,
   "metadata": {},
   "outputs": [
    {
     "data": {
      "text/plain": [
       "2"
      ]
     },
     "execution_count": 62,
     "metadata": {},
     "output_type": "execute_result"
    }
   ],
   "source": [
    "head.getPrevious().getValue()"
   ]
  },
  {
   "cell_type": "code",
   "execution_count": 63,
   "metadata": {},
   "outputs": [
    {
     "data": {
      "text/plain": [
       "1"
      ]
     },
     "execution_count": 63,
     "metadata": {},
     "output_type": "execute_result"
    }
   ],
   "source": [
    "head.getValue()"
   ]
  },
  {
   "cell_type": "code",
   "execution_count": 64,
   "metadata": {},
   "outputs": [
    {
     "data": {
      "text/plain": [
       "2"
      ]
     },
     "execution_count": 64,
     "metadata": {},
     "output_type": "execute_result"
    }
   ],
   "source": [
    "w.getValue()"
   ]
  },
  {
   "cell_type": "code",
   "execution_count": 74,
   "metadata": {},
   "outputs": [],
   "source": [
    "something = {\n",
    "}"
   ]
  },
  {
   "cell_type": "code",
   "execution_count": 75,
   "metadata": {},
   "outputs": [],
   "source": [
    "something[1] = \"abc\""
   ]
  },
  {
   "cell_type": "code",
   "execution_count": 82,
   "metadata": {},
   "outputs": [
    {
     "data": {
      "text/plain": [
       "{}"
      ]
     },
     "execution_count": 82,
     "metadata": {},
     "output_type": "execute_result"
    }
   ],
   "source": [
    "something"
   ]
  },
  {
   "cell_type": "code",
   "execution_count": 81,
   "metadata": {},
   "outputs": [
    {
     "data": {
      "text/plain": [
       "'abc'"
      ]
     },
     "execution_count": 81,
     "metadata": {},
     "output_type": "execute_result"
    }
   ],
   "source": [
    "something.pop(1)"
   ]
  },
  {
   "cell_type": "code",
   "execution_count": null,
   "metadata": {},
   "outputs": [],
   "source": []
  }
 ],
 "metadata": {
  "kernelspec": {
   "display_name": "Python 3",
   "language": "python",
   "name": "python3"
  },
  "language_info": {
   "codemirror_mode": {
    "name": "ipython",
    "version": 3
   },
   "file_extension": ".py",
   "mimetype": "text/x-python",
   "name": "python",
   "nbconvert_exporter": "python",
   "pygments_lexer": "ipython3",
   "version": "3.8.3"
  }
 },
 "nbformat": 4,
 "nbformat_minor": 4
}
