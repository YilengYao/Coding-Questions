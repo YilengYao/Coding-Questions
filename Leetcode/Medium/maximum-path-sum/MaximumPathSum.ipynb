{
 "cells": [
  {
   "cell_type": "markdown",
   "metadata": {},
   "source": [
    "https://leetcode.com/problems/minimum-path-sum/\n",
    "\n",
    "64. Minimum Path Sum\n",
    "Medium\n",
    "\n",
    "Given a m x n grid filled with non-negative numbers, find a path from top left to bottom right, which minimizes the sum of all numbers along its path.\n",
    "\n",
    "Note: You can only move either down or right at any point in time.\n",
    "\n",
    " \n",
    "\n",
    "Example 1:\n",
    "\n",
    "\n",
    "Input: grid = [[1,3,1],[1,5,1],[4,2,1]]\n",
    "\n",
    "Output: 7\n",
    "\n",
    "Explanation: Because the path 1 → 3 → 1 → 1 → 1 minimizes the sum.\n",
    "\n",
    "Example 2:\n",
    "\n",
    "Input: grid = [[1,2,3],[4,5,6]]\n",
    "\n",
    "Output: 12\n",
    " \n",
    "\n",
    "Constraints:\n",
    "\n",
    "m == grid.length\n",
    "\n",
    "n == grid[i].length\n",
    "\n",
    "1 <= m, n <= 200\n",
    "\n",
    "0 <= grid[i][j] <= 100"
   ]
  },
  {
   "cell_type": "code",
   "execution_count": 1,
   "metadata": {},
   "outputs": [],
   "source": [
    "from typing import List\n",
    "\n",
    "class Solution:\n",
    "    def minPathSum(self, grid: List[List[int]]) -> int:\n",
    "        m = len(grid)\n",
    "        n = len(grid[0])\n",
    "        for column in range(1, n):\n",
    "            grid[0][column] =  grid[0][column] + grid[0][column - 1]\n",
    "            \n",
    "        for row in range(1,m):\n",
    "            grid[row][0] = grid[row][0] + grid[row- 1][0]\n",
    "            \n",
    "        for row in range(1,m):\n",
    "            for column in range(1,n):\n",
    "\n",
    "\n",
    "                grid[row][column] = grid[row][column] + min(grid[row-1][column], grid[row][column-1])\n",
    "\n",
    "        return grid[-1][-1]"
   ]
  }
 ],
 "metadata": {
  "kernelspec": {
   "display_name": "Python 3",
   "language": "python",
   "name": "python3"
  },
  "language_info": {
   "codemirror_mode": {
    "name": "ipython",
    "version": 3
   },
   "file_extension": ".py",
   "mimetype": "text/x-python",
   "name": "python",
   "nbconvert_exporter": "python",
   "pygments_lexer": "ipython3",
   "version": "3.8.3"
  }
 },
 "nbformat": 4,
 "nbformat_minor": 4
}
