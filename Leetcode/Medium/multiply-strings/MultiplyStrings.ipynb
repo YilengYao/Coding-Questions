{
 "cells": [
  {
   "cell_type": "markdown",
   "metadata": {},
   "source": [
    "https://leetcode.com/problems/multiply-strings/\n",
    "\n",
    "43. Multiply Strings\n",
    "Medium\n",
    "\n",
    "Given two non-negative integers num1 and num2 represented as strings, return the product of num1 and num2, also represented as a string.\n",
    "\n",
    "Note: You must not use any built-in BigInteger library or convert the inputs to integer directly.\n",
    "\n",
    " \n",
    "\n",
    "Example 1:\n",
    "\n",
    "Input: num1 = \"2\", num2 = \"3\"\n",
    "\n",
    "Output: \"6\"\n",
    "\n",
    "Example 2:\n",
    "\n",
    "Input: num1 = \"123\", num2 = \"456\"\n",
    "\n",
    "Output: \"56088\"\n",
    " \n",
    "\n",
    "Constraints:\n",
    "\n",
    "1 <= num1.length, num2.length <= 200\n",
    "\n",
    "num1 and num2 consist of digits only.\n",
    "\n",
    "Both num1 and num2 do not contain any leading zero, except the number 0 itself."
   ]
  },
  {
   "cell_type": "code",
   "execution_count": 22,
   "metadata": {},
   "outputs": [],
   "source": [
    "class Solution:\n",
    "    def multiply(self, num1: str, num2: str) -> str:\n",
    "        n1 = len(num1)\n",
    "        n2 = len(num2)\n",
    "        result = 0\n",
    "        for i in range(n1):\n",
    "            for j in range(n2):\n",
    "                result += ((ord(num1[i]) - ord(\"0\")) * 10**(n1 - i - 1)) * ((ord(num2[j]) - ord(\"0\")) * 10**(n2 - j -1))\n",
    "        return str(result)"
   ]
  },
  {
   "cell_type": "markdown",
   "metadata": {},
   "source": [
    "Using dictionary, and power function"
   ]
  },
  {
   "cell_type": "code",
   "execution_count": 28,
   "metadata": {},
   "outputs": [],
   "source": [
    "class Solution:\n",
    "    str_to_int = {\n",
    "        \"0\": 0,\n",
    "        \"1\": 1,\n",
    "        \"2\": 2,\n",
    "        \"3\": 3,\n",
    "        \"4\": 4,\n",
    "        \"5\": 5,\n",
    "        \"6\": 6,\n",
    "        \"7\": 7,\n",
    "        \"8\": 8,\n",
    "        \"9\": 9\n",
    "    }\n",
    "    def multiply(self, num1: str, num2: str) -> str:\n",
    "        n1 = len(num1)\n",
    "        n2 = len(num2)\n",
    "        result = 0\n",
    "        for i in range(n1):\n",
    "            for j in range(n2):\n",
    "                result += self.str_to_int[num1[i]]  * self.str_to_int[num2[j]] * pow(10, n1 - i - 1 + n2 - j -1)\n",
    "        return str(result)"
   ]
  }
 ],
 "metadata": {
  "kernelspec": {
   "display_name": "Python 3",
   "language": "python",
   "name": "python3"
  },
  "language_info": {
   "codemirror_mode": {
    "name": "ipython",
    "version": 3
   },
   "file_extension": ".py",
   "mimetype": "text/x-python",
   "name": "python",
   "nbconvert_exporter": "python",
   "pygments_lexer": "ipython3",
   "version": "3.8.3"
  }
 },
 "nbformat": 4,
 "nbformat_minor": 4
}
