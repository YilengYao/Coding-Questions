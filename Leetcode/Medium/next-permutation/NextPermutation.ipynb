{
 "cells": [
  {
   "cell_type": "markdown",
   "metadata": {},
   "source": [
    "https://leetcode.com/problems/next-permutation/\n",
    "\n",
    "31. Next Permutation\n",
    "Medium\n",
    "\n",
    "Implement next permutation, which rearranges numbers into the lexicographically next greater permutation of numbers.\n",
    "\n",
    "If such an arrangement is impossible, it must rearrange it to the lowest possible order (i.e., sorted in ascending order).\n",
    "\n",
    "The replacement must be in place and use only constant extra memory.\n",
    "\n",
    " \n",
    "\n",
    "Example 1:\n",
    "\n",
    "Input: nums = [1,2,3]\n",
    "\n",
    "Output: [1,3,2]\n",
    "\n",
    "Example 2:\n",
    "\n",
    "Input: nums = [3,2,1]\n",
    "\n",
    "Output: [1,2,3]\n",
    "\n",
    "Example 3:\n",
    "\n",
    "Input: nums = [1,1,5]\n",
    "\n",
    "Output: [1,5,1]\n",
    " \n",
    "\n",
    "Constraints:\n",
    "\n",
    "1 <= nums.length <= 100\n",
    "\n",
    "0 <= nums[i] <= 100"
   ]
  },
  {
   "cell_type": "code",
   "execution_count": 31,
   "metadata": {},
   "outputs": [],
   "source": [
    "from typing import List\n",
    "\n",
    "class Solution:\n",
    "    def nextPermutation(self, nums: List[int]) -> None:\n",
    "        \"\"\"\n",
    "        Do not return anything, modify nums in-place instead.\n",
    "        \"\"\"\n",
    "        n = len(nums)\n",
    "        if n <= 1:\n",
    "            return\n",
    "        i = n - 1\n",
    "        \n",
    "        while i >= 0:\n",
    "            if nums[i-1] < nums[i]:\n",
    "                break\n",
    "            i -= 1\n",
    "\n",
    "        if i == 0:\n",
    "            nums[:] = nums[::-1] \n",
    "            return\n",
    "        \n",
    "        j = n - 1\n",
    "        while j >= i:\n",
    "            if nums[i-1] < nums[j]:\n",
    "                break\n",
    "            j -= 1\n",
    "        \n",
    "        nums[i-1], nums[j] = nums[j], nums[i-1]\n",
    "        \n",
    "        nums[i:] = nums[i:][::-1]\n",
    "        \n",
    "        return     "
   ]
  }
 ],
 "metadata": {
  "kernelspec": {
   "display_name": "Python 3",
   "language": "python",
   "name": "python3"
  },
  "language_info": {
   "codemirror_mode": {
    "name": "ipython",
    "version": 3
   },
   "file_extension": ".py",
   "mimetype": "text/x-python",
   "name": "python",
   "nbconvert_exporter": "python",
   "pygments_lexer": "ipython3",
   "version": "3.8.3"
  }
 },
 "nbformat": 4,
 "nbformat_minor": 4
}
