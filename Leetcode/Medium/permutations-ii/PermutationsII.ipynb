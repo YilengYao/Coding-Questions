{
 "cells": [
  {
   "cell_type": "markdown",
   "metadata": {},
   "source": [
    "https://leetcode.com/problems/permutations-ii/submissions/\n",
    "\n",
    "47. Permutations II\n",
    "Medium\n",
    "\n",
    "Given a collection of numbers, nums, that might contain duplicates, return all possible unique permutations in any order.\n",
    "\n",
    " \n",
    "\n",
    "Example 1:\n",
    "\n",
    "Input: nums = [1,1,2]\n",
    "\n",
    "Output:\n",
    "\n",
    "[[1,1,2],\n",
    " [1,2,1],\n",
    " [2,1,1]]\n",
    "\n",
    "Example 2:\n",
    "\n",
    "Input: nums = [1,2,3]\n",
    "\n",
    "Output: [[1,2,3],[1,3,2],[2,1,3],[2,3,1],[3,1,2],[3,2,1]]\n",
    " \n",
    "\n",
    "Constraints:\n",
    "\n",
    "1 <= nums.length <= 8\n",
    "\n",
    "-10 <= nums[i] <= 10"
   ]
  },
  {
   "cell_type": "markdown",
   "metadata": {},
   "source": [
    "Turning list into set"
   ]
  },
  {
   "cell_type": "code",
   "execution_count": 1,
   "metadata": {},
   "outputs": [],
   "source": [
    "from typing import List\n",
    "\n",
    "class Solution:\n",
    "    def permuteUnique(self, nums: List[int]) -> List[List[int]]:\n",
    "        res = set()\n",
    "        for i in self.recPermute(nums):\n",
    "            res.add(tuple(i))\n",
    "        return res\n",
    "    \n",
    "    def recPermute(self, nums):\n",
    "        n = len(nums)\n",
    "        res = []\n",
    "        if n < 1:\n",
    "            return res\n",
    "        if n == 1:\n",
    "            return [nums]\n",
    "        \n",
    "        for i in range(n):\n",
    "            perm = self.recPermute(nums[:i] + nums[i + 1:])\n",
    "            for j in perm:\n",
    "                res.append([nums[i]] + j)\n",
    "                \n",
    "        return res"
   ]
  }
 ],
 "metadata": {
  "kernelspec": {
   "display_name": "Python 3",
   "language": "python",
   "name": "python3"
  },
  "language_info": {
   "codemirror_mode": {
    "name": "ipython",
    "version": 3
   },
   "file_extension": ".py",
   "mimetype": "text/x-python",
   "name": "python",
   "nbconvert_exporter": "python",
   "pygments_lexer": "ipython3",
   "version": "3.8.3"
  }
 },
 "nbformat": 4,
 "nbformat_minor": 4
}
