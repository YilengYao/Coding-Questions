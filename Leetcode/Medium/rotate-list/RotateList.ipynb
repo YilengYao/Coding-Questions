{
 "cells": [
  {
   "cell_type": "markdown",
   "metadata": {},
   "source": [
    "https://leetcode.com/problems/rotate-list/\n",
    "\n",
    "61. Rotate List\n",
    "Medium\n",
    "\n",
    "Given the head of a linked list, rotate the list to the right by k places.\n",
    "\n",
    " \n",
    "\n",
    "Example 1:\n",
    "\n",
    "\n",
    "Input: head = [1,2,3,4,5], k = 2\n",
    "\n",
    "Output: [4,5,1,2,3]\n",
    "\n",
    "Example 2:\n",
    "\n",
    "\n",
    "Input: head = [0,1,2], k = 4\n",
    "\n",
    "Output: [2,0,1]\n",
    " \n",
    "\n",
    "Constraints:\n",
    "\n",
    "The number of nodes in the list is in the range [0, 500].\n",
    "\n",
    "-100 <= Node.val <= 100\n",
    "\n",
    "0 <= k <= 2 * 109"
   ]
  },
  {
   "cell_type": "code",
   "execution_count": 2,
   "metadata": {},
   "outputs": [],
   "source": [
    "from typing import List, Optional\n",
    "\n",
    "# Definition for singly-linked list.\n",
    "class ListNode:\n",
    "    def __init__(self, val=0, next=None):\n",
    "        self.val = val\n",
    "        self.next = next\n",
    "        \n",
    "class Solution:\n",
    "    def rotateRight(self, head: Optional[ListNode], k: int) -> Optional[ListNode]:\n",
    "        n = 0\n",
    "        end = head\n",
    "        if not head:\n",
    "            return head\n",
    "        while end.next:\n",
    "            end = end.next\n",
    "            n += 1\n",
    "            \n",
    "        count = (n + 1) - k % (n + 1) \n",
    "        prev = None\n",
    "        curr = head\n",
    "        if count == n + 1:\n",
    "            return head\n",
    "        while count > 0:\n",
    "            prev = curr\n",
    "            curr = curr.next\n",
    "            count -= 1\n",
    "        prev.next = None\n",
    "        end.next = head\n",
    "        \n",
    "        return curr"
   ]
  }
 ],
 "metadata": {
  "kernelspec": {
   "display_name": "Python 3",
   "language": "python",
   "name": "python3"
  },
  "language_info": {
   "codemirror_mode": {
    "name": "ipython",
    "version": 3
   },
   "file_extension": ".py",
   "mimetype": "text/x-python",
   "name": "python",
   "nbconvert_exporter": "python",
   "pygments_lexer": "ipython3",
   "version": "3.8.3"
  }
 },
 "nbformat": 4,
 "nbformat_minor": 4
}
