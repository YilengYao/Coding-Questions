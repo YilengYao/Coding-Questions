{
 "cells": [
  {
   "cell_type": "markdown",
   "metadata": {},
   "source": [
    "https://leetcode.com/problems/spiral-matrix-ii/\n",
    "\n",
    "59. Spiral Matrix II\n",
    "Medium\n",
    "\n",
    "Given a positive integer n, generate an n x n matrix filled with elements from 1 to n2 in spiral order.\n",
    "\n",
    " \n",
    "\n",
    "Example 1:\n",
    "\n",
    "\n",
    "Input: n = 3\n",
    "\n",
    "Output: [[1,2,3],[8,9,4],[7,6,5]]\n",
    "\n",
    "Example 2:\n",
    "\n",
    "Input: n = 1\n",
    "\n",
    "Output: [[1]]\n",
    " \n",
    "\n",
    "Constraints:\n",
    "\n",
    "1 <= n <= 20"
   ]
  },
  {
   "cell_type": "code",
   "execution_count": 7,
   "metadata": {},
   "outputs": [],
   "source": [
    "from typing import List\n",
    "\n",
    "class Solution:\n",
    "    def generateMatrix(self, n: int) -> List[List[int]]:\n",
    "        matrix = [[\"\" for i in range(n)] for i in range(n)]\n",
    "        self.recGenerateMatrix(matrix, 1, 0 , n, 0, n)\n",
    "        return matrix\n",
    "    \n",
    "    \n",
    "    def recGenerateMatrix(self, matrix, v, top, bottom, left, right):\n",
    "        if bottom - top <= 1:\n",
    "            if bottom - top == 1:\n",
    "                matrix[top][left] = v\n",
    "        else:\n",
    "            v = self.populatePerimeter(matrix, v, top, bottom, left, right)\n",
    "            self.recGenerateMatrix(matrix, v, top + 1, bottom -1, left+1, right -1)\n",
    "    \n",
    "    \n",
    "    def populatePerimeter(self, matrix, v, top, bottom, left, right):        \n",
    "        for i in range(left, right):\n",
    "            matrix[top][i] = v\n",
    "            v += 1\n",
    "            \n",
    "        for i in range(top + 1, bottom -1):\n",
    "            matrix[i][right-1] = v\n",
    "            v += 1\n",
    "            \n",
    "        for i in range(left, right)[::-1]:\n",
    "            matrix[bottom-1][i] = v\n",
    "            v += 1\n",
    "\n",
    "        for i in range(top + 1, bottom -1)[::-1]:\n",
    "            # print(left)\n",
    "            # print(v)\n",
    "            matrix[i][left] = v\n",
    "            v += 1\n",
    "        return v"
   ]
  }
 ],
 "metadata": {
  "kernelspec": {
   "display_name": "Python 3",
   "language": "python",
   "name": "python3"
  },
  "language_info": {
   "codemirror_mode": {
    "name": "ipython",
    "version": 3
   },
   "file_extension": ".py",
   "mimetype": "text/x-python",
   "name": "python",
   "nbconvert_exporter": "python",
   "pygments_lexer": "ipython3",
   "version": "3.8.3"
  }
 },
 "nbformat": 4,
 "nbformat_minor": 4
}
