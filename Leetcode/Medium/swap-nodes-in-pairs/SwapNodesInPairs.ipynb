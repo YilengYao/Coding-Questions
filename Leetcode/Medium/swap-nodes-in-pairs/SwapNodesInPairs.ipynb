{
 "cells": [
  {
   "cell_type": "markdown",
   "metadata": {},
   "source": [
    "24. Swap Nodes in Pairs\n",
    "Medium\n",
    "\n",
    "Given a linked list, swap every two adjacent nodes and return its head. You must solve the problem without modifying the values in the list's nodes (i.e., only nodes themselves may be changed.)\n",
    "\n",
    " \n",
    "\n",
    "Example 1:\n",
    "\n",
    "\n",
    "Input: head = [1,2,3,4]\n",
    "\n",
    "Output: [2,1,4,3]\n",
    "\n",
    "Example 2:\n",
    "\n",
    "Input: head = []\n",
    "\n",
    "Output: []\n",
    "\n",
    "Example 3:\n",
    "\n",
    "Input: head = [1]\n",
    "\n",
    "Output: [1]\n",
    " \n",
    "\n",
    "Constraints:\n",
    "\n",
    "The number of nodes in the list is in the range [0, 100].\n",
    "\n",
    "0 <= Node.val <= 100"
   ]
  },
  {
   "cell_type": "code",
   "execution_count": 1,
   "metadata": {},
   "outputs": [],
   "source": [
    "from typing import Optional\n",
    "\n",
    "# Definition for singly-linked list.\n",
    "class ListNode:\n",
    "    def __init__(self, val=0, next=None):\n",
    "        self.val = val\n",
    "        self.next = next\n",
    "class Solution:\n",
    "    def swapPairs(self, head: Optional[ListNode]) -> Optional[ListNode]:\n",
    "        head = ListNode(next = head)\n",
    "        walker = head\n",
    "        while walker.next and walker.next.next:\n",
    "            p_1 = walker.next\n",
    "            walker.next = walker.next.next\n",
    "            p_1.next = walker.next.next\n",
    "            walker.next.next = p_1\n",
    "            walker = walker.next.next\n",
    "            \n",
    "        \n",
    "        return head.next"
   ]
  }
 ],
 "metadata": {
  "kernelspec": {
   "display_name": "Python 3",
   "language": "python",
   "name": "python3"
  },
  "language_info": {
   "codemirror_mode": {
    "name": "ipython",
    "version": 3
   },
   "file_extension": ".py",
   "mimetype": "text/x-python",
   "name": "python",
   "nbconvert_exporter": "python",
   "pygments_lexer": "ipython3",
   "version": "3.8.3"
  }
 },
 "nbformat": 4,
 "nbformat_minor": 4
}
