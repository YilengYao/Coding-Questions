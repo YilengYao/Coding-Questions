{
 "cells": [
  {
   "cell_type": "markdown",
   "metadata": {},
   "source": [
    "https://leetcode.com/problems/3sum-closest/solution/"
   ]
  },
  {
   "cell_type": "markdown",
   "metadata": {},
   "source": [
    "16. 3Sum Closest\n",
    "Medium\n",
    "\n",
    "Given an integer array nums of length n and an integer target, find three integers in nums such that the sum is closest to target.\n",
    "\n",
    "Return the sum of the three integers.\n",
    "\n",
    "You may assume that each input would have exactly one solution.\n",
    "\n",
    " \n",
    "\n",
    "Example 1:\n",
    "\n",
    "Input: nums = [-1,2,1,-4], target = 1\n",
    "Output: 2\n",
    "Explanation: The sum that is closest to the target is 2. (-1 + 2 + 1 = 2).\n",
    "Example 2:\n",
    "\n",
    "Input: nums = [0,0,0], target = 1\n",
    "Output: 0\n",
    " \n",
    "\n",
    "Constraints:\n",
    "\n",
    "3 <= nums.length <= 1000\n",
    "-1000 <= nums[i] <= 1000\n",
    "-104 <= target <= 104"
   ]
  },
  {
   "cell_type": "markdown",
   "metadata": {},
   "source": [
    "O(n^2) solution"
   ]
  },
  {
   "cell_type": "code",
   "execution_count": 2,
   "metadata": {},
   "outputs": [],
   "source": [
    "from typing import List\n",
    "\n",
    "class Solution:\n",
    "    def threeSumClosest(self, nums: List[int], target: int) -> int:\n",
    "        nums = sorted(nums)\n",
    "        closest = [abs(sum(nums[:3]) - target), sum(nums[:3])]\n",
    "        for i in range(len(nums)):\n",
    "            res = nums[:i] + nums[i+1:]\n",
    "            twoClosest = self.twoClosest( nums[:i] + nums[i+1:], target - nums[i])\n",
    "            if abs(target - nums[i] - twoClosest) == 0:\n",
    "                return twoClosest + nums[i]\n",
    "            elif abs(target - nums[i] - twoClosest) < closest[0]:\n",
    "                closest[0], closest[1] = abs(target - nums[i] - twoClosest), twoClosest + nums[i]\n",
    "        return closest[1]\n",
    "    \n",
    "    def twoClosest(self, nums: List[int], target: int) -> int:\n",
    "        left = 0\n",
    "        right = len(nums) - 1\n",
    "        twoSum = nums[left] + nums[right]\n",
    "        closest = [abs(twoSum - target), twoSum]\n",
    "        while left < right:\n",
    "            twoSum = nums[left] + nums[right]\n",
    "            if abs(twoSum - target) < closest[0]:\n",
    "                closest[0], closest[1] = abs(twoSum - target), twoSum\n",
    "            if twoSum == target:\n",
    "                return twoSum\n",
    "            elif twoSum < target:\n",
    "                left = left + 1\n",
    "            else:\n",
    "                right = right - 1\n",
    "        return closest[1]"
   ]
  },
  {
   "cell_type": "markdown",
   "metadata": {},
   "source": [
    "O(n log n) solution"
   ]
  },
  {
   "cell_type": "code",
   "execution_count": null,
   "metadata": {},
   "outputs": [],
   "source": [
    "class Solution:\n",
    "    def threeSumClosest(self, nums: List[int], target: int) -> int:\n",
    "        nums = sorted(nums)\n",
    "        closest = [abs(sum(nums[:3]) - target), sum(nums[:3])]\n",
    "        for i in range(len(nums)):\n",
    "            res = nums[:i] + nums[i+1:]\n",
    "            twoClosest = self.twoClosest( nums[:i] + nums[i+1:], target - nums[i])\n",
    "            if abs(target - nums[i] - twoClosest) == 0:\n",
    "                return twoClosest + nums[i]\n",
    "            elif abs(target - nums[i] - twoClosest) < closest[0]:\n",
    "                closest[0], closest[1] = abs(target - nums[i] - twoClosest), twoClosest + nums[i]\n",
    "        return closest[1]\n",
    "    \n",
    "    def twoClosest(self, nums: List[int], target: int) -> int:\n",
    "        left = 0\n",
    "        right = len(nums) - 1\n",
    "        twoSum = nums[left] + nums[right]\n",
    "        closest = [abs(twoSum - target), twoSum]\n",
    "        while left < right:\n",
    "            twoSum = nums[left] + nums[right]\n",
    "            if abs(twoSum - target) < closest[0]:\n",
    "                closest[0], closest[1] = abs(twoSum - target), twoSum\n",
    "            if twoSum == target:\n",
    "                return twoSum\n",
    "            elif twoSum < target:\n",
    "                if right - left > 2:\n",
    "                    middle = (left + right) // 2\n",
    "                    if nums[right] + nums[middle] < target:\n",
    "                        left = middle\n",
    "                    else:\n",
    "                        left = left + 1\n",
    "                left = left + 1\n",
    "            else:\n",
    "                if left - right > 2:\n",
    "                    middle = (left + right) // 2\n",
    "                    if nums[left] + nums[middle] > target:\n",
    "                        right = middle\n",
    "                    else:\n",
    "                        right = right - 1\n",
    "                else:\n",
    "                    right = right - 1\n",
    "        return closest[1]"
   ]
  }
 ],
 "metadata": {
  "kernelspec": {
   "display_name": "Python 3",
   "language": "python",
   "name": "python3"
  },
  "language_info": {
   "codemirror_mode": {
    "name": "ipython",
    "version": 3
   },
   "file_extension": ".py",
   "mimetype": "text/x-python",
   "name": "python",
   "nbconvert_exporter": "python",
   "pygments_lexer": "ipython3",
   "version": "3.8.3"
  }
 },
 "nbformat": 4,
 "nbformat_minor": 4
}
