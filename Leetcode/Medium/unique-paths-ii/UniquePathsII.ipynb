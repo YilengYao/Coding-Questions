{
 "cells": [
  {
   "cell_type": "markdown",
   "metadata": {},
   "source": [
    "https://leetcode.com/problems/unique-paths-ii/\n",
    "\n",
    "63. Unique Paths II\n",
    "Medium\n",
    "\n",
    "A robot is located at the top-left corner of a m x n grid (marked 'Start' in the diagram below).\n",
    "\n",
    "The robot can only move either down or right at any point in time. The robot is trying to reach the bottom-right corner of the grid (marked 'Finish' in the diagram below).\n",
    "\n",
    "Now consider if some obstacles are added to the grids. How many unique paths would there be?\n",
    "\n",
    "An obstacle and space is marked as 1 and 0 respectively in the grid.\n",
    "\n",
    " \n",
    "\n",
    "Example 1:\n",
    "\n",
    "\n",
    "Input: obstacleGrid = [[0,0,0],[0,1,0],[0,0,0]]\n",
    "\n",
    "Output: 2\n",
    "\n",
    "Explanation: There is one obstacle in the middle of the 3x3 grid above.\n",
    "\n",
    "There are two ways to reach the bottom-right corner:\n",
    "\n",
    "1. Right -> Right -> Down -> Down\n",
    "\n",
    "2. Down -> Down -> Right -> Right\n",
    "\n",
    "Example 2:\n",
    "\n",
    "\n",
    "Input: obstacleGrid = [[0,1],[0,0]]\n",
    "\n",
    "Output: 1\n",
    " \n",
    "\n",
    "Constraints:\n",
    "\n",
    "m == obstacleGrid.length\n",
    "\n",
    "n == obstacleGrid[i].length\n",
    "\n",
    "1 <= m, n <= 100\n",
    "\n",
    "obstacleGrid[i][j] is 0 or 1."
   ]
  },
  {
   "cell_type": "code",
   "execution_count": 1,
   "metadata": {},
   "outputs": [],
   "source": [
    "from typing import List\n",
    "\n",
    "class Solution:\n",
    "    def uniquePathsWithObstacles(self, obstacleGrid: List[List[int]]) -> int:\n",
    "        if obstacleGrid[0][0] == 1:\n",
    "            return 0\n",
    "        m = len(obstacleGrid)\n",
    "        n = len(obstacleGrid[0])\n",
    "        path = [[0 for column in range(n)] for row in range(m)]\n",
    "        obstacleGrid[0][0] = 1\n",
    "        path[0][0] = 1\n",
    "        for row in range(m):\n",
    "            for column in range(n):\n",
    "                if obstacleGrid[row][column] != 1:\n",
    "                    path[row][column] = path[row-1][column] + path[row][column - 1]\n",
    "                    \n",
    "        return path[-1][-1]"
   ]
  }
 ],
 "metadata": {
  "kernelspec": {
   "display_name": "Python 3",
   "language": "python",
   "name": "python3"
  },
  "language_info": {
   "codemirror_mode": {
    "name": "ipython",
    "version": 3
   },
   "file_extension": ".py",
   "mimetype": "text/x-python",
   "name": "python",
   "nbconvert_exporter": "python",
   "pygments_lexer": "ipython3",
   "version": "3.8.3"
  }
 },
 "nbformat": 4,
 "nbformat_minor": 4
}
