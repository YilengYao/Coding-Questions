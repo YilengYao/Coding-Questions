{
 "cells": [
  {
   "cell_type": "code",
   "execution_count": 1,
   "metadata": {},
   "outputs": [],
   "source": [
    "s = \"abc\""
   ]
  },
  {
   "cell_type": "code",
   "execution_count": 2,
   "metadata": {},
   "outputs": [
    {
     "data": {
      "text/plain": [
       "False"
      ]
     },
     "execution_count": 2,
     "metadata": {},
     "output_type": "execute_result"
    }
   ],
   "source": [
    "s == s[::-1]"
   ]
  },
  {
   "cell_type": "code",
   "execution_count": 7,
   "metadata": {},
   "outputs": [],
   "source": [
    "s = \"\""
   ]
  },
  {
   "cell_type": "code",
   "execution_count": 8,
   "metadata": {},
   "outputs": [
    {
     "data": {
      "text/plain": [
       "True"
      ]
     },
     "execution_count": 8,
     "metadata": {},
     "output_type": "execute_result"
    }
   ],
   "source": [
    "s == s[::-1]"
   ]
  },
  {
   "cell_type": "code",
   "execution_count": 13,
   "metadata": {},
   "outputs": [],
   "source": [
    "def findPartitionPalindrome(s):\n",
    "        if s == s[::-1]:\n",
    "            return s\n",
    "        \n",
    "        abg = findPartitionPalindrome(s[:-1])\n",
    "        abb = findPartitionPalindrome(s[1:])\n",
    "        if len(abg) > len(abb):\n",
    "            return abg\n",
    "        else:\n",
    "            return abb\n",
    "        \n",
    "        \n",
    "        "
   ]
  },
  {
   "cell_type": "code",
   "execution_count": null,
   "metadata": {},
   "outputs": [],
   "source": [
    "findPartitionPalindrome(\"babaddtattarrattatddetartrateedredividerb\")"
   ]
  },
  {
   "cell_type": "code",
   "execution_count": 122,
   "metadata": {},
   "outputs": [
    {
     "data": {
      "text/plain": [
       "'a#a'"
      ]
     },
     "execution_count": 122,
     "metadata": {},
     "output_type": "execute_result"
    }
   ],
   "source": [
    "\"#\".join(\"aa\")"
   ]
  },
  {
   "cell_type": "code",
   "execution_count": 123,
   "metadata": {},
   "outputs": [
    {
     "data": {
      "text/plain": [
       "'#'"
      ]
     },
     "execution_count": 123,
     "metadata": {},
     "output_type": "execute_result"
    }
   ],
   "source": [
    "s"
   ]
  },
  {
   "cell_type": "markdown",
   "metadata": {},
   "source": [
    "https://leetcode.com/problems/longest-palindromic-substring/submissions/"
   ]
  },
  {
   "cell_type": "markdown",
   "metadata": {},
   "source": [
    "5. Longest Palindromic Substring\n",
    "Medium\n",
    "\n",
    "Given a string s, return the longest palindromic substring in s.\n",
    "\n",
    "\n",
    "Example 1:\n",
    "\n",
    "Input: s = \"babad\"\n",
    "Output: \"bab\"\n",
    "Note: \"aba\" is also a valid answer.\n",
    "Example 2:\n",
    "\n",
    "Input: s = \"cbbd\"\n",
    "Output: \"bb\"\n",
    "Example 3:\n",
    "\n",
    "Input: s = \"a\"\n",
    "Output: \"a\"\n",
    "Example 4:\n",
    "\n",
    "Input: s = \"ac\"\n",
    "Output: \"a\"\n",
    " \n",
    "\n",
    "Constraints:\n",
    "\n",
    "1 <= s.length <= 1000\n",
    "s consist of only digits and English letters."
   ]
  },
  {
   "cell_type": "code",
   "execution_count": 314,
   "metadata": {},
   "outputs": [],
   "source": [
    "class Solution:\n",
    "    def longestPalindrome(self, s: str) -> str:\n",
    "        s = \"#\".join(s)\n",
    "        s = \"#\" + s + \"#\"\n",
    "        n = len(s)\n",
    "        longest_palindrome = { \"length\": 0, \"coordinate\": [0, 0]}\n",
    "        for i in range(n):\n",
    "            coordinate = self.find_palindrome(s, i, n)\n",
    "            if coordinate[1] - coordinate[0] > longest_palindrome[\"length\"]:\n",
    "                longest_palindrome[\"length\"] = coordinate[1] - coordinate[0]\n",
    "                longest_palindrome[\"coordinate\"] = coordinate\n",
    "\n",
    "        s = s[longest_palindrome[\"coordinate\"][0]:longest_palindrome[\"coordinate\"][1]+1]\n",
    "        w = s.replace(\"#\", \"\")\n",
    "        return w\n",
    "        \n",
    "    def find_palindrome(self, a, c, n):\n",
    "        r = min(c, n - c - 1)\n",
    "        for i in range(r + 1):\n",
    "            if a[c - i] != a[c + i]:\n",
    "                return [c-i + 1, c+i - 1]\n",
    "        return [c - r, c + r]"
   ]
  }
 ],
 "metadata": {
  "kernelspec": {
   "display_name": "Python 3",
   "language": "python",
   "name": "python3"
  },
  "language_info": {
   "codemirror_mode": {
    "name": "ipython",
    "version": 3
   },
   "file_extension": ".py",
   "mimetype": "text/x-python",
   "name": "python",
   "nbconvert_exporter": "python",
   "pygments_lexer": "ipython3",
   "version": "3.8.3"
  }
 },
 "nbformat": 4,
 "nbformat_minor": 4
}
