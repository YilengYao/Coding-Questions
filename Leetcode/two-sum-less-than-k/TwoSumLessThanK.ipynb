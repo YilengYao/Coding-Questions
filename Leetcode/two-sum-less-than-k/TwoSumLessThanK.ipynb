{
 "cells": [
  {
   "cell_type": "markdown",
   "metadata": {},
   "source": [
    "https://leetcode.com/problems/two-sum-less-than-k/"
   ]
  },
  {
   "cell_type": "code",
   "execution_count": 2,
   "metadata": {},
   "outputs": [],
   "source": [
    "from typing import List\n",
    "class Solution:\n",
    "    def twoSumLessThanK(self, nums: List[int], k: int) -> int:\n",
    "        nums = sorted(nums)\n",
    "        left = 0\n",
    "        right = len(nums) - 1\n",
    "        s = -1\n",
    "        while right > left:\n",
    "            if (nums[left] + nums[right]) < k:\n",
    "                s = max(s, nums[left] + nums[right])\n",
    "                left = left + 1\n",
    "            else: \n",
    "                right = right - 1\n",
    "            \n",
    "  \n",
    "        return s"
   ]
  }
 ],
 "metadata": {
  "kernelspec": {
   "display_name": "Python 3",
   "language": "python",
   "name": "python3"
  },
  "language_info": {
   "codemirror_mode": {
    "name": "ipython",
    "version": 3
   },
   "file_extension": ".py",
   "mimetype": "text/x-python",
   "name": "python",
   "nbconvert_exporter": "python",
   "pygments_lexer": "ipython3",
   "version": "3.8.3"
  }
 },
 "nbformat": 4,
 "nbformat_minor": 4
}
