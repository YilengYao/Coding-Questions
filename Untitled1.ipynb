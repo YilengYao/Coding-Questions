{
 "cells": [
  {
   "cell_type": "code",
   "execution_count": null,
   "metadata": {},
   "outputs": [],
   "source": [
    "You are given array of integers called blocks. Each of the values in this array represents the width of a block - the ith block has a height of 1 and a width of blocks[i] (i.e. it's a 1 x blocks[i] block).\n",
    "\n",
    "You want to pack all the given blocks into a rectangular container of dimensions height x width, according to the following rules:\n",
    "\n",
    "Place blocks into the container row by row, starting with block 0.\n",
    "For each row, place the blocks into the container one by one, in the order they are given in the blocks array.\n",
    "If there is not enough space to put the current block in the current row, start filling the next row.\n",
    "You are given the value height of the rectangular container. Your task is to find the minimal possible width of a rectangular container in which all blocks can fit. Find and return this minimal possible width value.\n",
    "\n",
    "NOTE: The blocks cannot be rotated.\n",
    "\n",
    "Example\n",
    "\n",
    "For blocks = [1, 3, 1, 3, 3] and height = 2, the output should be solution(blocks, height) = 6.\n",
    "\n",
    "Here's how the blocks should be packed in a container of size 2 x 6:\n",
    "\n",
    "\n",
    "Note that it wouldn't be possible to fit these blocks in a container that's any less wide than 6.\n",
    "\n",
    "For blocks = [2, 3, 1, 1, 1] and height = 2, the output should be solution(blocks, height) = 5.\n",
    "\n",
    "Here's how the blocks should be packed in container of size 2 x 5:\n",
    "\n",
    "\n",
    "It might seem like these blocks could be packed into a container of size 2 x 4, but since we must place them in the order they appear in the blocks array, the width must be at least 5."
   ]
  },
  {
   "cell_type": "code",
   "execution_count": null,
   "metadata": {},
   "outputs": [],
   "source": [
    "A text editor is a type of computer program that edits plain text. It consists of a string with a cursor. In the initial state, the string is empty with the cursor at the beginning of the string. Some modern text editors have a clipboard manager - they save a history of copied text.\n",
    "\n",
    "Your task is to simulate the working process of a text editor with a simple clipboard manager which can handle six types of operations:\n",
    "\n",
    "TYPE <text> - insert <text> after the current position of the cursor, where <text> consists of at most 50 characters including English letters, digits, whitespaces, and symbols .,?!-. The cursor moves to the end of the inserted text.\n",
    "SELECT <start_index> <end_index> - select the substring of the current text [text[start_index] ... text[end_index]] (inclusive indices, 0-based) of length end_index - start_index + 1. It is guaranteed that the indices are valid. The cursor changes its position to the end of the selected area.\n",
    "MOVE_CURSOR <offset> - change the cursor's current position. The <offset> specifies the direction and the value change - if it is negative the cursor moves to the left, and if it's positive the cursor moves to the right. At all times, the cursor is either located at the beginning of the string (before the first character), between two characters, or at the end of the string (after the last character) - the cursor should always be within the text bounds. If the <offset> is larger than the cursor can move, the cursor will move in that direction as much as it can. If there is a selected area, it should be cleared after this operation.\n",
    "COPY - add the text from the selected area to the clipboard. If there is no selected area then do nothing.\n",
    "PASTE <steps_back> - insert the copied text from the clipboard manager. The number <steps_back> specifies which of the stored copied texts to insert. If <steps_back> is 1 then insert the last copied text, if it is 2 then insert the text copied before the last, and so on. It <steps_back> is greater than the clipboard history size then ignore this operation. The cursor moves to the end of the inserted text.\n",
    "PASTE - do the same as if the operation is PASTE 1.\n",
    "Note: If a selected area is not empty and the next operaion is either TYPE or PASTE then the following updating process is expected during the TYPE or PASTE operation:\n",
    "\n",
    "Delete the selected text.\n",
    "Insert the new text in the place of the deleted text.\n",
    "The cursor position should move to the end of the new text.\n",
    "You are given operations, an array of strings where each is an operation of one of the six types above. Your task is to find the resulting text after performing the given operations.\n",
    "\n",
    "Example\n",
    "\n",
    "For operations = [\"TYPE Great Britain is the capital of London\", \"SELECT 0 12\", \"COPY\", \"SELECT 32 37\", \"COPY\", \"PASTE 2\", \"SELECT 0 12\", \"PASTE\", \"MOVE_CURSOR 32\", \"TYPE !\"], the output should be solution(operations) = \"London is the capital of Great Britain!\".\n",
    "\n",
    "Initially the text is empty,\n",
    "After the \"TYPE Great Britain is the capital of London\" operation, the text is \"Great Britain is the capital of London|\" (where the | symbol represents the cursor position),\n",
    "After the \"SELECT 0 12\" operation, the selected text is \"Great Britain\", the cursor is moved to the end of the selected area \"Great Britain| is the capital of London\",\n",
    "After the \"COPY\" operation, the clipboard is [\"Great Britain\"], the cursor doesn't move, and the selected area stays the same,\n",
    "After the \"SELECT 32 37\" operation, the selected text is \"London\", the cursor is moved to the end of the selected area \"Great Britain is the capital of London|\",\n",
    "After the \"COPY\" operation, the clipboard is [\"Great Britain\", \"London\"], the cursor doesn't move, and the selected area stays the same,\n",
    "After the \"PASTE 2\" operation, since there is a selected text, it is deleted and replaced with the text \"Great Britain\" because it is 2 positions back in the clipboard, the cursor stays after the inserted text, so the text is \"Great Britain is the capital of Great Britain|\",\n",
    "After the \"SELECT 0 12\" operation, the selected text is \"Great Britain\", the cursor is moved to the end of the selected area \"Great Britain| is the capital of Great Britain\",\n",
    "After the \"PASTE\" operation, since there is a selected text, it is deleted and replaced with the text \"London\" because it is the last copied text in the clipboard, the cursor stays after the inserted text, so the text is \"London| is the capital of Great Britain\",\n",
    "After the \"MOVE_CURSOR 32\", the cursor moves 32 symbols forward, so the text is \"London is the capital of Great Britain|\",\n",
    "After the \"TYPE !\" operation, the text is \"London is the capital of Great Britain!|\",\n",
    "So the final string is \"London is the capital of Great Britain!\"."
   ]
  },
  {
   "cell_type": "code",
   "execution_count": null,
   "metadata": {},
   "outputs": [],
   "source": [
    "Input:\n",
    "operations:\n",
    "[\"TYPE aba\", \n",
    " \"SELECT 0 2\", \n",
    " \"COPY\", \n",
    " \"COPY\", \n",
    " \"MOVE_CURSOR 1\", \n",
    " \"TYPE c\", \n",
    " \"PASTE 2\"]\n",
    "Expected Output:\n",
    "\"abacaba\""
   ]
  },
  {
   "cell_type": "code",
   "execution_count": 1,
   "metadata": {},
   "outputs": [
    {
     "ename": "SyntaxError",
     "evalue": "invalid syntax (<ipython-input-1-aac051c3b84b>, line 1)",
     "output_type": "error",
     "traceback": [
      "\u001b[0;36m  File \u001b[0;32m\"<ipython-input-1-aac051c3b84b>\"\u001b[0;36m, line \u001b[0;32m1\u001b[0m\n\u001b[0;31m    Input:\u001b[0m\n\u001b[0m          ^\u001b[0m\n\u001b[0;31mSyntaxError\u001b[0m\u001b[0;31m:\u001b[0m invalid syntax\n"
     ]
    }
   ],
   "source": [
    "Input:\n",
    "operations: [\"TYPE HelloWorld\"]\n",
    "Expected Output:\n",
    "\"HelloWorld\""
   ]
  },
  {
   "cell_type": "code",
   "execution_count": null,
   "metadata": {},
   "outputs": [],
   "source": [
    "String solution(String[] operations) {\n",
    "\n",
    "}"
   ]
  },
  {
   "cell_type": "code",
   "execution_count": 1,
   "metadata": {},
   "outputs": [],
   "source": [
    "String[] operations =  {\"TYPE aba\", \n",
    " \"SELECT 0 2\", \n",
    " \"COPY\", \n",
    " \"COPY\", \n",
    " \"MOVE_CURSOR 1\", \n",
    " \"TYPE c\", \n",
    " \"PASTE 2\"};"
   ]
  },
  {
   "cell_type": "code",
   "execution_count": 3,
   "metadata": {},
   "outputs": [
    {
     "data": {
      "text/plain": [
       "SELECT 0 2"
      ]
     },
     "execution_count": 3,
     "metadata": {},
     "output_type": "execute_result"
    }
   ],
   "source": [
    "operations[1]"
   ]
  },
  {
   "cell_type": "code",
   "execution_count": 7,
   "metadata": {},
   "outputs": [],
   "source": [
    "private static String getText(String[] commands) {\n",
    "    Stack<String> stack = new Stack<>();\n",
    "    String clipBoard = \"\";\n",
    "    stack.push(\"\");\n",
    "\n",
    "    for (String command : commands) {\n",
    "        if (command.contains(\"INSERT \")) {\n",
    "            String str = stack.peek();\n",
    "            stack.push(str + command.substring(7));\n",
    "        } else if (command.contains(\"DELETE\")) {\n",
    "            String str_delete = stack.peek();\n",
    "            stack.push(str_delete.substring(0,str_delete.length()-1));\n",
    "        } else if (command.contains(\"UNDO\")) {\n",
    "            stack.pop();\n",
    "        } else if (command.contains(\"COPY\")) {\n",
    "            String str1 = stack.peek();\n",
    "            int index = Integer.parseInt(command.substring(5));\n",
    "            clipBoard = str1.substring(index);\n",
    "        } else if (command.contains(\"PASTE\")) {\n",
    "            String str = stack.peek();\n",
    "            stack.push(str + clipBoard);\n",
    "        }\n",
    "        System.out.println(stack);\n",
    "    }\n",
    "\n",
    "    return stack.pop();\n",
    "}\n",
    "\n",
    "public static void main(String[] str)\n",
    "{\n",
    "    System.out.println(getText(new String[]{\"INSERT Da\", \"COPY 0\", \"UNDO\", \"PASTE\", \"PASTE\", \"COPY 2\", \"PASTE\", \"PASTE\", \"DELETE\", \"INSERT aaam\"}));\n",
    "}"
   ]
  },
  {
   "cell_type": "code",
   "execution_count": 8,
   "metadata": {},
   "outputs": [
    {
     "name": "stdout",
     "output_type": "stream",
     "text": [
      "[, Da]\n",
      "[, Da]\n",
      "[]\n",
      "[, Da]\n",
      "[, Da, DaDa]\n",
      "[, Da, DaDa]\n",
      "[, Da, DaDa, DaDaDa]\n",
      "[, Da, DaDa, DaDaDa, DaDaDaDa]\n",
      "[, Da, DaDa, DaDaDa, DaDaDaDa, DaDaDaD]\n",
      "[, Da, DaDa, DaDaDa, DaDaDaDa, DaDaDaD, DaDaDaDaaam]\n",
      "DaDaDaDaaam\n"
     ]
    }
   ],
   "source": [
    "main(new String[1]);"
   ]
  },
  {
   "cell_type": "code",
   "execution_count": 9,
   "metadata": {},
   "outputs": [
    {
     "ename": "CompilationException",
     "evalue": "",
     "output_type": "error",
     "traceback": [
      "\u001b[1m\u001b[30m|   \u001b[1m\u001b[30m\u001b[0m\u001b[1m\u001b[30m\u001b[41mInstant\u001b[0m\u001b[1m\u001b[30m.now().toEpochMilli()\u001b[0m",
      "\u001b[1m\u001b[31mcannot find symbol\u001b[0m",
      "\u001b[1m\u001b[31m  symbol:   variable Instant\u001b[0m",
      ""
     ]
    }
   ],
   "source": [
    "\n",
    "Instant.now().toEpochMilli()"
   ]
  },
  {
   "cell_type": "code",
   "execution_count": 11,
   "metadata": {},
   "outputs": [],
   "source": [
    "String s = \"0123456\";"
   ]
  },
  {
   "cell_type": "code",
   "execution_count": 20,
   "metadata": {},
   "outputs": [
    {
     "data": {
      "text/plain": [
       "01234"
      ]
     },
     "execution_count": 20,
     "metadata": {},
     "output_type": "execute_result"
    }
   ],
   "source": [
    "s.substring(0,5)"
   ]
  },
  {
   "cell_type": "code",
   "execution_count": 15,
   "metadata": {},
   "outputs": [
    {
     "data": {
      "text/plain": [
       "1"
      ]
     },
     "execution_count": 15,
     "metadata": {},
     "output_type": "execute_result"
    }
   ],
   "source": [
    "s.substring(5,6)"
   ]
  },
  {
   "cell_type": "code",
   "execution_count": 19,
   "metadata": {},
   "outputs": [
    {
     "data": {
      "text/plain": [
       "6"
      ]
     },
     "execution_count": 19,
     "metadata": {},
     "output_type": "execute_result"
    }
   ],
   "source": [
    "s.substring(6,7)"
   ]
  },
  {
   "cell_type": "code",
   "execution_count": 21,
   "metadata": {},
   "outputs": [],
   "source": [
    "String a = \"a\";\n",
    "String b = \"b\";\n",
    "String c = \"c\";"
   ]
  },
  {
   "cell_type": "code",
   "execution_count": 23,
   "metadata": {},
   "outputs": [
    {
     "data": {
      "text/plain": [
       "true"
      ]
     },
     "execution_count": 23,
     "metadata": {},
     "output_type": "execute_result"
    }
   ],
   "source": [
    "(a+a).equals(a+a)"
   ]
  },
  {
   "cell_type": "code",
   "execution_count": 50,
   "metadata": {},
   "outputs": [],
   "source": []
  },
  {
   "cell_type": "code",
   "execution_count": 51,
   "metadata": {},
   "outputs": [
    {
     "name": "stdout",
     "output_type": "stream",
     "text": [
      "0\n",
      "ai9\n"
     ]
    },
    {
     "data": {
      "text/plain": [
       "[I@19cac3c5"
      ]
     },
     "execution_count": 51,
     "metadata": {},
     "output_type": "execute_result"
    }
   ],
   "source": [
    "solution(1, a)"
   ]
  },
  {
   "cell_type": "code",
   "execution_count": 42,
   "metadata": {},
   "outputs": [],
   "source": [
    "int[] a = {9}"
   ]
  },
  {
   "cell_type": "code",
   "execution_count": 53,
   "metadata": {},
   "outputs": [
    {
     "ename": "CompilationException",
     "evalue": "",
     "output_type": "error",
     "traceback": [
      "\u001b[1m\u001b[30m|   \u001b[1m\u001b[30m\u001b[0m\u001b[1m\u001b[30m\u001b[41mString.parseInt\u001b[0m\u001b[1m\u001b[30m(\"1\")\u001b[0m",
      "\u001b[1m\u001b[31mcannot find symbol\u001b[0m",
      "\u001b[1m\u001b[31m  symbol:   method parseInt(java.lang.String)\u001b[0m",
      ""
     ]
    }
   ],
   "source": [
    "String.parseInt(\"1\")"
   ]
  },
  {
   "cell_type": "code",
   "execution_count": 55,
   "metadata": {},
   "outputs": [
    {
     "data": {
      "text/plain": [
       "2"
      ]
     },
     "execution_count": 55,
     "metadata": {},
     "output_type": "execute_result"
    }
   ],
   "source": [
    "Integer.toString(2);"
   ]
  },
  {
   "cell_type": "code",
   "execution_count": 58,
   "metadata": {},
   "outputs": [
    {
     "data": {
      "text/plain": [
       "1"
      ]
     },
     "execution_count": 58,
     "metadata": {},
     "output_type": "execute_result"
    }
   ],
   "source": [
    "Integer.parseInt(\"001\");  "
   ]
  },
  {
   "cell_type": "code",
   "execution_count": null,
   "metadata": {},
   "outputs": [],
   "source": []
  }
 ],
 "metadata": {
  "kernelspec": {
   "display_name": "Java",
   "language": "java",
   "name": "java"
  },
  "language_info": {
   "codemirror_mode": "java",
   "file_extension": ".jshell",
   "mimetype": "text/x-java-source",
   "name": "Java",
   "pygments_lexer": "java",
   "version": "11.0.9+11-LTS"
  }
 },
 "nbformat": 4,
 "nbformat_minor": 4
}
